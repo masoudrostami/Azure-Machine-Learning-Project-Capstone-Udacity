{
  "cells": [
    {
      "cell_type": "markdown",
      "source": [
        "# Automated ML\n",
        "\n",
        "Importing all needed dependencies to complete the project."
      ],
      "metadata": {}
    },
    {
      "cell_type": "code",
      "source": [
        "import logging\n",
        "import os\n",
        "import json\n",
        "import csv\n",
        "import numpy as np\n",
        "import pandas as pd\n",
        "import pkg_resources\n",
        "import joblib\n",
        "\n",
        "import azureml.core\n",
        "from azureml.core.experiment import Experiment\n",
        "from azureml.core.workspace import Workspace\n",
        "from azureml.train.automl import AutoMLConfig\n",
        "from azureml.core.dataset import Dataset\n",
        "from azureml.core.compute import AmlCompute\n",
        "from azureml.core.compute import ComputeTarget\n",
        "from azureml.core.compute_target import ComputeTargetException\n",
        "from azureml.pipeline.steps import AutoMLStep\n",
        "from azureml.widgets import RunDetails\n",
        "from azureml.core import Model, Environment\n",
        "from azureml.core.model import InferenceConfig\n",
        "from azureml.core.webservice import AciWebservice\n",
        "from sklearn.preprocessing import StandardScaler\n",
        "\n",
        "# Check core SDK version number\n",
        "print(\"SDK version:\", azureml.core.VERSION)"
      ],
      "outputs": [
        {
          "output_type": "stream",
          "name": "stdout",
          "text": [
            "SDK version: 1.20.0\n"
          ]
        }
      ],
      "execution_count": 1,
      "metadata": {
        "gather": {
          "logged": 1613337720471
        },
        "jupyter": {
          "outputs_hidden": false,
          "source_hidden": false
        },
        "nteract": {
          "transient": {
            "deleting": false
          }
        }
      }
    },
    {
      "cell_type": "markdown",
      "source": [
        "## Dataset\n",
        "\n",
        "#### Overview\n",
        "This dataset comes from the Diabetes and Digestive and Kidney Disease National Institutes. \n",
        "The purpose of this dataset is to diagnose whether or not a patient is diabetic, on the basis of certain diagnostic measures in the dataset. \n",
        "The selection of these instances from a larger database was subject to several restrictions. \n",
        "All patients are women from the Indian heritage of Pima, at least 21 years old. Datasets can be found here:\n",
        "https://www.kaggle.com/uciml/pima-indians-diabetes-database\n",
        "\n",
        "#### Task\n",
        "Here, we plan to predict the \"Outcome\" column based on the input features, either the patient has diabetes or not.\n",
        "\n",
        "\n",
        "The dataset has 9 variables including:\n",
        "- Pregnancies: Number pregnancy times (int).\n",
        "- Glucose: Plasma glucose concentration level (int).\n",
        "- BloodPressure: Diastolic blood pressure level in mm Hg(int).\n",
        "- SkinThickness: skinfold thickness in mm(int).\n",
        "- Insulin: two-hour serum insulin measured by mu U/ml(int).\n",
        "- BMI: Body mass index (float).\n",
        "- DiabetesPedigreeFunction: Diabetes pedigree function(float).\n",
        "- Age: age in years 21 and above(int).\n",
        "- Outcome: Target column 0 or 1, 0 = Not diabetes, 1 = diabetes(int)."
      ],
      "metadata": {}
    },
    {
      "cell_type": "code",
      "source": [
        "ws = Workspace.from_config()\n",
        "\n",
        "# choose a name for experiment\n",
        "experiment_name = 'automl-capstone'\n",
        "\n",
        "experiment=Experiment(ws, experiment_name)"
      ],
      "outputs": [
        {
          "output_type": "stream",
          "name": "stdout",
          "text": [
            "Performing interactive authentication. Please follow the instructions on the terminal.\n",
            "To sign in, use a web browser to open the page https://microsoft.com/devicelogin and enter the code AXX5D7CH8 to authenticate.\n",
            "You have logged in. Now let us find all the subscriptions to which you have access...\n",
            "Interactive authentication successfully completed.\n"
          ]
        }
      ],
      "execution_count": 2,
      "metadata": {
        "gather": {
          "logged": 1613338005793
        },
        "jupyter": {
          "outputs_hidden": false,
          "source_hidden": false
        },
        "nteract": {
          "transient": {
            "deleting": false
          }
        }
      }
    },
    {
      "cell_type": "code",
      "source": [
        "# Load the registered dataset from workspace\n",
        "dataset = Dataset.get_by_name(ws, name='diabete')\n",
        "\n",
        "# Convert the dataset to dataframe\n",
        "df = dataset.to_pandas_dataframe()\n",
        "df.info()"
      ],
      "outputs": [
        {
          "output_type": "stream",
          "name": "stdout",
          "text": [
            "<class 'pandas.core.frame.DataFrame'>\n",
            "RangeIndex: 768 entries, 0 to 767\n",
            "Data columns (total 9 columns):\n",
            "Pregnancies                 768 non-null int64\n",
            "Glucose                     768 non-null int64\n",
            "BloodPressure               768 non-null int64\n",
            "SkinThickness               768 non-null int64\n",
            "Insulin                     768 non-null int64\n",
            "BMI                         768 non-null float64\n",
            "DiabetesPedigreeFunction    768 non-null float64\n",
            "Age                         768 non-null int64\n",
            "Outcome                     768 non-null int64\n",
            "dtypes: float64(2), int64(7)\n",
            "memory usage: 54.1 KB\n"
          ]
        }
      ],
      "execution_count": 3,
      "metadata": {
        "gather": {
          "logged": 1613338092707
        }
      }
    },
    {
      "cell_type": "code",
      "source": [
        "df.describe()"
      ],
      "outputs": [
        {
          "output_type": "execute_result",
          "execution_count": 4,
          "data": {
            "text/plain": "       Pregnancies     Glucose  BloodPressure  SkinThickness     Insulin  \\\ncount   768.000000  768.000000     768.000000     768.000000  768.000000   \nmean      3.845052  120.894531      69.105469      20.536458   79.799479   \nstd       3.369578   31.972618      19.355807      15.952218  115.244002   \nmin       0.000000    0.000000       0.000000       0.000000    0.000000   \n25%       1.000000   99.000000      62.000000       0.000000    0.000000   \n50%       3.000000  117.000000      72.000000      23.000000   30.500000   \n75%       6.000000  140.250000      80.000000      32.000000  127.250000   \nmax      17.000000  199.000000     122.000000      99.000000  846.000000   \n\n              BMI  DiabetesPedigreeFunction         Age     Outcome  \ncount  768.000000                768.000000  768.000000  768.000000  \nmean    31.992578                  0.471876   33.240885    0.348958  \nstd      7.884160                  0.331329   11.760232    0.476951  \nmin      0.000000                  0.078000   21.000000    0.000000  \n25%     27.300000                  0.243750   24.000000    0.000000  \n50%     32.000000                  0.372500   29.000000    0.000000  \n75%     36.600000                  0.626250   41.000000    1.000000  \nmax     67.100000                  2.420000   81.000000    1.000000  ",
            "text/html": "<div>\n<style scoped>\n    .dataframe tbody tr th:only-of-type {\n        vertical-align: middle;\n    }\n\n    .dataframe tbody tr th {\n        vertical-align: top;\n    }\n\n    .dataframe thead th {\n        text-align: right;\n    }\n</style>\n<table border=\"1\" class=\"dataframe\">\n  <thead>\n    <tr style=\"text-align: right;\">\n      <th></th>\n      <th>Pregnancies</th>\n      <th>Glucose</th>\n      <th>BloodPressure</th>\n      <th>SkinThickness</th>\n      <th>Insulin</th>\n      <th>BMI</th>\n      <th>DiabetesPedigreeFunction</th>\n      <th>Age</th>\n      <th>Outcome</th>\n    </tr>\n  </thead>\n  <tbody>\n    <tr>\n      <th>count</th>\n      <td>768.000000</td>\n      <td>768.000000</td>\n      <td>768.000000</td>\n      <td>768.000000</td>\n      <td>768.000000</td>\n      <td>768.000000</td>\n      <td>768.000000</td>\n      <td>768.000000</td>\n      <td>768.000000</td>\n    </tr>\n    <tr>\n      <th>mean</th>\n      <td>3.845052</td>\n      <td>120.894531</td>\n      <td>69.105469</td>\n      <td>20.536458</td>\n      <td>79.799479</td>\n      <td>31.992578</td>\n      <td>0.471876</td>\n      <td>33.240885</td>\n      <td>0.348958</td>\n    </tr>\n    <tr>\n      <th>std</th>\n      <td>3.369578</td>\n      <td>31.972618</td>\n      <td>19.355807</td>\n      <td>15.952218</td>\n      <td>115.244002</td>\n      <td>7.884160</td>\n      <td>0.331329</td>\n      <td>11.760232</td>\n      <td>0.476951</td>\n    </tr>\n    <tr>\n      <th>min</th>\n      <td>0.000000</td>\n      <td>0.000000</td>\n      <td>0.000000</td>\n      <td>0.000000</td>\n      <td>0.000000</td>\n      <td>0.000000</td>\n      <td>0.078000</td>\n      <td>21.000000</td>\n      <td>0.000000</td>\n    </tr>\n    <tr>\n      <th>25%</th>\n      <td>1.000000</td>\n      <td>99.000000</td>\n      <td>62.000000</td>\n      <td>0.000000</td>\n      <td>0.000000</td>\n      <td>27.300000</td>\n      <td>0.243750</td>\n      <td>24.000000</td>\n      <td>0.000000</td>\n    </tr>\n    <tr>\n      <th>50%</th>\n      <td>3.000000</td>\n      <td>117.000000</td>\n      <td>72.000000</td>\n      <td>23.000000</td>\n      <td>30.500000</td>\n      <td>32.000000</td>\n      <td>0.372500</td>\n      <td>29.000000</td>\n      <td>0.000000</td>\n    </tr>\n    <tr>\n      <th>75%</th>\n      <td>6.000000</td>\n      <td>140.250000</td>\n      <td>80.000000</td>\n      <td>32.000000</td>\n      <td>127.250000</td>\n      <td>36.600000</td>\n      <td>0.626250</td>\n      <td>41.000000</td>\n      <td>1.000000</td>\n    </tr>\n    <tr>\n      <th>max</th>\n      <td>17.000000</td>\n      <td>199.000000</td>\n      <td>122.000000</td>\n      <td>99.000000</td>\n      <td>846.000000</td>\n      <td>67.100000</td>\n      <td>2.420000</td>\n      <td>81.000000</td>\n      <td>1.000000</td>\n    </tr>\n  </tbody>\n</table>\n</div>"
          },
          "metadata": {}
        }
      ],
      "execution_count": 4,
      "metadata": {
        "gather": {
          "logged": 1613338113410
        }
      }
    },
    {
      "cell_type": "code",
      "source": [
        "#Display the first five records of the dataset\n",
        "df.head()"
      ],
      "outputs": [
        {
          "output_type": "execute_result",
          "execution_count": 5,
          "data": {
            "text/plain": "   Pregnancies  Glucose  BloodPressure  SkinThickness  Insulin   BMI  \\\n0            6      148             72             35        0  33.6   \n1            1       85             66             29        0  26.6   \n2            8      183             64              0        0  23.3   \n3            1       89             66             23       94  28.1   \n4            0      137             40             35      168  43.1   \n\n   DiabetesPedigreeFunction  Age  Outcome  \n0                     0.627   50        1  \n1                     0.351   31        0  \n2                     0.672   32        1  \n3                     0.167   21        0  \n4                     2.288   33        1  ",
            "text/html": "<div>\n<style scoped>\n    .dataframe tbody tr th:only-of-type {\n        vertical-align: middle;\n    }\n\n    .dataframe tbody tr th {\n        vertical-align: top;\n    }\n\n    .dataframe thead th {\n        text-align: right;\n    }\n</style>\n<table border=\"1\" class=\"dataframe\">\n  <thead>\n    <tr style=\"text-align: right;\">\n      <th></th>\n      <th>Pregnancies</th>\n      <th>Glucose</th>\n      <th>BloodPressure</th>\n      <th>SkinThickness</th>\n      <th>Insulin</th>\n      <th>BMI</th>\n      <th>DiabetesPedigreeFunction</th>\n      <th>Age</th>\n      <th>Outcome</th>\n    </tr>\n  </thead>\n  <tbody>\n    <tr>\n      <th>0</th>\n      <td>6</td>\n      <td>148</td>\n      <td>72</td>\n      <td>35</td>\n      <td>0</td>\n      <td>33.6</td>\n      <td>0.627</td>\n      <td>50</td>\n      <td>1</td>\n    </tr>\n    <tr>\n      <th>1</th>\n      <td>1</td>\n      <td>85</td>\n      <td>66</td>\n      <td>29</td>\n      <td>0</td>\n      <td>26.6</td>\n      <td>0.351</td>\n      <td>31</td>\n      <td>0</td>\n    </tr>\n    <tr>\n      <th>2</th>\n      <td>8</td>\n      <td>183</td>\n      <td>64</td>\n      <td>0</td>\n      <td>0</td>\n      <td>23.3</td>\n      <td>0.672</td>\n      <td>32</td>\n      <td>1</td>\n    </tr>\n    <tr>\n      <th>3</th>\n      <td>1</td>\n      <td>89</td>\n      <td>66</td>\n      <td>23</td>\n      <td>94</td>\n      <td>28.1</td>\n      <td>0.167</td>\n      <td>21</td>\n      <td>0</td>\n    </tr>\n    <tr>\n      <th>4</th>\n      <td>0</td>\n      <td>137</td>\n      <td>40</td>\n      <td>35</td>\n      <td>168</td>\n      <td>43.1</td>\n      <td>2.288</td>\n      <td>33</td>\n      <td>1</td>\n    </tr>\n  </tbody>\n</table>\n</div>"
          },
          "metadata": {}
        }
      ],
      "execution_count": 5,
      "metadata": {
        "gather": {
          "logged": 1613338119653
        }
      }
    },
    {
      "cell_type": "code",
      "source": [
        "df.columns"
      ],
      "outputs": [
        {
          "output_type": "execute_result",
          "execution_count": 13,
          "data": {
            "text/plain": "Index(['Pregnancies', 'Glucose', 'BloodPressure', 'SkinThickness', 'Insulin',\n       'BMI', 'DiabetesPedigreeFunction', 'Age', 'Outcome'],\n      dtype='object')"
          },
          "metadata": {}
        }
      ],
      "execution_count": 13,
      "metadata": {
        "collapsed": true,
        "jupyter": {
          "source_hidden": false,
          "outputs_hidden": false
        },
        "nteract": {
          "transient": {
            "deleting": false
          }
        },
        "gather": {
          "logged": 1613339238686
        }
      }
    },
    {
      "cell_type": "code",
      "source": [
        "# Create CPU cluster\n",
        "amlcompute_cluster_name = \"notebook138912\"\n",
        "\n",
        "# Verify if cluster does not exist otherwise use the existing one\n",
        "try:\n",
        "    compute_target = ComputeTarget(workspace=ws, name=amlcompute_cluster_name)\n",
        "    print('Found existing cluster, use it.')\n",
        "except ComputeTargetException:\n",
        "    compute_config = AmlCompute.provisioning_configuration(vm_size='Standard_DS12_V2',\n",
        "                                                           vm_priority = 'lowpriority', \n",
        "                                                           max_nodes=4)\n",
        "    compute_target = ComputeTarget.create(ws, amlcompute_cluster_name, compute_config)\n",
        "\n",
        "compute_target.wait_for_completion(show_output=True)\n"
      ],
      "outputs": [
        {
          "output_type": "stream",
          "name": "stdout",
          "text": [
            "Found existing cluster, use it.\n",
            "\n",
            "Running\n"
          ]
        }
      ],
      "execution_count": 6,
      "metadata": {
        "gather": {
          "logged": 1613338147687
        }
      }
    },
    {
      "cell_type": "markdown",
      "source": [
        "## AutoML Configuration\n",
        "\n",
        "Overview of the automl settings and configuration used for this experiment:\n",
        "\n",
        "- \"experiment_timeout_minutes\": set to 30 minutes. The experiment will timeout after that period to avoid wasting resources.\n",
        "- \"max_concurrent_iterations\": is set to 4. The max number of concurrent iterations to be run in parallel at the same time.\n",
        "- \"primary_metric\" : is set to 'accuracy', which is a sutible metric for classification problems.\n",
        "- \"n_cross_validations\": is set to 5, therefore the training and validation sets will be divided into five equal sets.\n",
        "- \"iterations\": the number of iterations for the experiment is set to 20. It's a reasonable number and would provide the intendable result for the given dataset.\n",
        "- compute_target: set to the project cluster to run the experiment.\n",
        "- task: set to 'classification' since our target to predict whether the patient has diabetes or not.\n",
        "- training_data: the loaded dataset for the project.\n",
        "- label_column_name: set to the result/target colunm in the dataset 'Outcome' (0 or 1).\n",
        "- enable_early_stopping: is enabled to terminate the experiment if the accuracy score is not showing improvement over time.\n",
        "- featurization = is set to 'auto', it's an indicator of whether implementing a featurization step to preprocess/clean the dataset automatically or not. In our case, the preprocessing was applied for the numerical columns which normally involve treating missing values, cluster distance, the weight of evidence...etc.\n",
        "- debug_log: errors will be logged into 'automl_errors.log'.\n"
      ],
      "metadata": {}
    },
    {
      "cell_type": "code",
      "source": [
        "# Automl settings \n",
        "automl_settings = {\n",
        "    \"experiment_timeout_minutes\": 30,\n",
        "    \"max_concurrent_iterations\": 4,\n",
        "    \"primary_metric\" : 'accuracy',\n",
        "    \"n_cross_validations\": 5,\n",
        "    \"iterations\": 24\n",
        "    \n",
        "}\n",
        "\n",
        "# Automl config \n",
        "automl_config = AutoMLConfig(compute_target=compute_target,\n",
        "                             task = 'classification',\n",
        "                             training_data=dataset,\n",
        "                             label_column_name='Outcome',\n",
        "                             enable_early_stopping= True,\n",
        "                             featurization = 'auto',\n",
        "                             debug_log = 'automl_errors.log',\n",
        "                             **automl_settings\n",
        "                            )\n",
        "\n"
      ],
      "outputs": [],
      "execution_count": 7,
      "metadata": {
        "gather": {
          "logged": 1613338173227
        },
        "jupyter": {
          "outputs_hidden": false,
          "source_hidden": false
        },
        "nteract": {
          "transient": {
            "deleting": false
          }
        }
      }
    },
    {
      "cell_type": "code",
      "source": [
        "# Submit experiment\n",
        "remote_run = experiment.submit(automl_config, show_output=True)"
      ],
      "outputs": [
        {
          "output_type": "stream",
          "name": "stdout",
          "text": [
            "Running on remote.\n",
            "No run_configuration provided, running on notebook138912 with default configuration\n",
            "Running on remote compute: notebook138912\n",
            "Parent Run ID: AutoML_01843660-d936-4a03-a31a-ece32909196e\n",
            "\n",
            "Current status: FeaturesGeneration. Generating features for the dataset.\n",
            "Current status: DatasetFeaturization. Beginning to fit featurizers and featurize the dataset.\n",
            "Current status: DatasetCrossValidationSplit. Generating individually featurized CV splits.\n",
            "Current status: ModelSelection. Beginning model selection.\n",
            "\n",
            "****************************************************************************************************\n",
            "DATA GUARDRAILS: \n",
            "\n",
            "TYPE:         Class balancing detection\n",
            "STATUS:       PASSED\n",
            "DESCRIPTION:  Your inputs were analyzed, and all classes are balanced in your training data.\n",
            "              Learn more about imbalanced data: https://aka.ms/AutomatedMLImbalancedData\n",
            "\n",
            "****************************************************************************************************\n",
            "\n",
            "TYPE:         Missing feature values imputation\n",
            "STATUS:       PASSED\n",
            "DESCRIPTION:  No feature missing values were detected in the training data.\n",
            "              Learn more about missing value imputation: https://aka.ms/AutomatedMLFeaturization\n",
            "\n",
            "****************************************************************************************************\n",
            "\n",
            "TYPE:         High cardinality feature detection\n",
            "STATUS:       PASSED\n",
            "DESCRIPTION:  Your inputs were analyzed, and no high cardinality features were detected.\n",
            "              Learn more about high cardinality feature handling: https://aka.ms/AutomatedMLFeaturization\n",
            "\n",
            "****************************************************************************************************\n",
            "\n",
            "****************************************************************************************************\n",
            "ITERATION: The iteration being evaluated.\n",
            "PIPELINE: A summary description of the pipeline being evaluated.\n",
            "DURATION: Time taken for the current iteration.\n",
            "METRIC: The result of computing score on the fitted pipeline.\n",
            "BEST: The best observed score thus far.\n",
            "****************************************************************************************************\n",
            "\n",
            " ITERATION   PIPELINE                                       DURATION      METRIC      BEST\n",
            "         0   MaxAbsScaler LightGBM                          0:01:08       0.7435    0.7435\n",
            "         3   MaxAbsScaler RandomForest                      0:01:06       0.7579    0.7579\n",
            "         1   MaxAbsScaler XGBoostClassifier                 0:01:08       0.7656    0.7656\n",
            "         2   MaxAbsScaler RandomForest                      0:01:06       0.7552    0.7656\n",
            "         4   MaxAbsScaler RandomForest                      0:01:12       0.7578    0.7656\n",
            "         5   MaxAbsScaler RandomForest                      0:01:04       0.7344    0.7656\n",
            "         6   SparseNormalizer XGBoostClassifier             0:01:07       0.7189    0.7656\n",
            "         7   SparseNormalizer XGBoostClassifier             0:01:10       0.7110    0.7656\n",
            "        10   MaxAbsScaler RandomForest                      0:01:04       0.7592    0.7656\n",
            "        11   StandardScalerWrapper RandomForest             0:01:05       0.7631    0.7656\n",
            "         9   SparseNormalizer XGBoostClassifier             0:01:10       0.6485    0.7656\n",
            "         8   SparseNormalizer XGBoostClassifier             0:01:11       0.7045    0.7656\n",
            "        12   MaxAbsScaler LogisticRegression                0:01:17       0.7683    0.7683\n",
            "        13   MaxAbsScaler ExtremeRandomTrees                0:01:14       0.7435    0.7683\n",
            "        14   MaxAbsScaler LightGBM                          0:01:07       0.7474    0.7683\n",
            "        15   MaxAbsScaler LightGBM                          0:01:09       0.7409    0.7683\n",
            "        16   MaxAbsScaler LightGBM                          0:01:06       0.7657    0.7683\n",
            "        17   MaxAbsScaler LogisticRegression                0:01:08       0.7709    0.7709\n",
            "        18   SparseNormalizer LightGBM                      0:01:07       0.6759    0.7709\n",
            "        19   SparseNormalizer XGBoostClassifier             0:01:08       0.6941    0.7709\n",
            "        20   SparseNormalizer LightGBM                      0:01:10       0.6459    0.7709\n",
            "        21   SparseNormalizer XGBoostClassifier             0:01:01       0.7071    0.7709\n",
            "        23    StackEnsemble                                 0:01:30       0.7722    0.7722\n",
            "        22    VotingEnsemble                                0:01:33       0.7878    0.7878\n"
          ]
        }
      ],
      "execution_count": 8,
      "metadata": {
        "gather": {
          "logged": 1613339143992
        },
        "jupyter": {
          "outputs_hidden": false,
          "source_hidden": false
        },
        "nteract": {
          "transient": {
            "deleting": false
          }
        }
      }
    },
    {
      "cell_type": "markdown",
      "source": [
        "## Run Details\n",
        "\n",
        "The best model has resulted from the AutoML experiment from VotingEnsemble model. The Voting Ensemble model takes a majority vote of several algorithms which makes it surpass individual algorithms and minimize the bias. \n",
        "\n",
        "Use the `RunDetails` widget to show the different experiments."
      ],
      "metadata": {}
    },
    {
      "cell_type": "code",
      "source": [
        "RunDetails(remote_run).show()"
      ],
      "outputs": [
        {
          "output_type": "display_data",
          "data": {
            "text/plain": "_AutoMLWidget(widget_settings={'childWidgetDisplay': 'popup', 'send_telemetry': False, 'log_level': 'INFO', 's…",
            "application/vnd.jupyter.widget-view+json": {
              "version_major": 2,
              "version_minor": 0,
              "model_id": "b48e0d6ba976451b8f589415b31f544a"
            }
          },
          "metadata": {}
        },
        {
          "output_type": "display_data",
          "data": {
            "application/aml.mini.widget.v1": "{\"status\": \"Completed\", \"workbench_run_details_uri\": \"https://ml.azure.com/experiments/automl-capstone/runs/AutoML_01843660-d936-4a03-a31a-ece32909196e?wsid=/subscriptions/b968fb36-f06a-4c76-a15f-afab68ae7667/resourcegroups/aml-quickstarts-138912/workspaces/quick-starts-ws-138912\", \"run_id\": \"AutoML_01843660-d936-4a03-a31a-ece32909196e\", \"run_properties\": {\"run_id\": \"AutoML_01843660-d936-4a03-a31a-ece32909196e\", \"created_utc\": \"2021-02-14T21:29:43.604281Z\", \"properties\": {\"num_iterations\": \"24\", \"training_type\": \"TrainFull\", \"acquisition_function\": \"EI\", \"primary_metric\": \"accuracy\", \"train_split\": \"0\", \"acquisition_parameter\": \"0\", \"num_cross_validation\": \"5\", \"target\": \"notebook138912\", \"AMLSettingsJsonString\": \"{\\\"path\\\":null,\\\"name\\\":\\\"automl-capstone\\\",\\\"subscription_id\\\":\\\"b968fb36-f06a-4c76-a15f-afab68ae7667\\\",\\\"resource_group\\\":\\\"aml-quickstarts-138912\\\",\\\"workspace_name\\\":\\\"quick-starts-ws-138912\\\",\\\"region\\\":\\\"southcentralus\\\",\\\"compute_target\\\":\\\"notebook138912\\\",\\\"spark_service\\\":null,\\\"azure_service\\\":\\\"remote\\\",\\\"many_models\\\":false,\\\"pipeline_fetch_max_batch_size\\\":1,\\\"iterations\\\":24,\\\"primary_metric\\\":\\\"accuracy\\\",\\\"task_type\\\":\\\"classification\\\",\\\"data_script\\\":null,\\\"validation_size\\\":0.0,\\\"n_cross_validations\\\":5,\\\"y_min\\\":null,\\\"y_max\\\":null,\\\"num_classes\\\":null,\\\"featurization\\\":\\\"auto\\\",\\\"_ignore_package_version_incompatibilities\\\":false,\\\"is_timeseries\\\":false,\\\"max_cores_per_iteration\\\":1,\\\"max_concurrent_iterations\\\":4,\\\"iteration_timeout_minutes\\\":null,\\\"mem_in_mb\\\":null,\\\"enforce_time_on_windows\\\":false,\\\"experiment_timeout_minutes\\\":30,\\\"experiment_exit_score\\\":null,\\\"whitelist_models\\\":null,\\\"blacklist_algos\\\":[\\\"TensorFlowLinearClassifier\\\",\\\"TensorFlowDNN\\\"],\\\"supported_models\\\":[\\\"KNN\\\",\\\"LightGBM\\\",\\\"ExtremeRandomTrees\\\",\\\"XGBoostClassifier\\\",\\\"AveragedPerceptronClassifier\\\",\\\"SGD\\\",\\\"LinearSVM\\\",\\\"TensorFlowLinearClassifier\\\",\\\"BernoulliNaiveBayes\\\",\\\"MultinomialNaiveBayes\\\",\\\"GradientBoosting\\\",\\\"TensorFlowDNN\\\",\\\"DecisionTree\\\",\\\"SVM\\\",\\\"LogisticRegression\\\",\\\"RandomForest\\\"],\\\"auto_blacklist\\\":true,\\\"blacklist_samples_reached\\\":false,\\\"exclude_nan_labels\\\":true,\\\"verbosity\\\":20,\\\"_debug_log\\\":\\\"azureml_automl.log\\\",\\\"show_warnings\\\":false,\\\"model_explainability\\\":true,\\\"service_url\\\":null,\\\"sdk_url\\\":null,\\\"sdk_packages\\\":null,\\\"enable_onnx_compatible_models\\\":false,\\\"enable_split_onnx_featurizer_estimator_models\\\":false,\\\"vm_type\\\":\\\"STANDARD_DS3_V2\\\",\\\"telemetry_verbosity\\\":20,\\\"send_telemetry\\\":true,\\\"enable_dnn\\\":false,\\\"scenario\\\":\\\"SDK-1.13.0\\\",\\\"environment_label\\\":null,\\\"force_text_dnn\\\":false,\\\"enable_feature_sweeping\\\":true,\\\"enable_early_stopping\\\":true,\\\"early_stopping_n_iters\\\":10,\\\"metrics\\\":null,\\\"enable_ensembling\\\":true,\\\"enable_stack_ensembling\\\":true,\\\"ensemble_iterations\\\":15,\\\"enable_tf\\\":false,\\\"enable_subsampling\\\":false,\\\"subsample_seed\\\":null,\\\"enable_nimbusml\\\":false,\\\"enable_streaming\\\":false,\\\"force_streaming\\\":false,\\\"track_child_runs\\\":true,\\\"allowed_private_models\\\":[],\\\"label_column_name\\\":\\\"Outcome\\\",\\\"weight_column_name\\\":null,\\\"cv_split_column_names\\\":null,\\\"enable_local_managed\\\":false,\\\"_local_managed_run_id\\\":null,\\\"cost_mode\\\":1,\\\"lag_length\\\":0,\\\"metric_operation\\\":\\\"maximize\\\",\\\"preprocess\\\":true}\", \"DataPrepJsonString\": \"{\\\\\\\"training_data\\\\\\\": \\\\\\\"{\\\\\\\\\\\\\\\"blocks\\\\\\\\\\\\\\\": [{\\\\\\\\\\\\\\\"id\\\\\\\\\\\\\\\": \\\\\\\\\\\\\\\"ad8ce605-e401-41ed-a697-c5789cdc30e0\\\\\\\\\\\\\\\", \\\\\\\\\\\\\\\"type\\\\\\\\\\\\\\\": \\\\\\\\\\\\\\\"Microsoft.DPrep.GetDatastoreFilesBlock\\\\\\\\\\\\\\\", \\\\\\\\\\\\\\\"arguments\\\\\\\\\\\\\\\": {\\\\\\\\\\\\\\\"datastores\\\\\\\\\\\\\\\": [{\\\\\\\\\\\\\\\"datastoreName\\\\\\\\\\\\\\\": \\\\\\\\\\\\\\\"workspaceblobstore\\\\\\\\\\\\\\\", \\\\\\\\\\\\\\\"path\\\\\\\\\\\\\\\": \\\\\\\\\\\\\\\"UI/02-14-2021_091821_UTC/diabetes.csv\\\\\\\\\\\\\\\", \\\\\\\\\\\\\\\"resourceGroup\\\\\\\\\\\\\\\": \\\\\\\\\\\\\\\"aml-quickstarts-138912\\\\\\\\\\\\\\\", \\\\\\\\\\\\\\\"subscription\\\\\\\\\\\\\\\": \\\\\\\\\\\\\\\"b968fb36-f06a-4c76-a15f-afab68ae7667\\\\\\\\\\\\\\\", \\\\\\\\\\\\\\\"workspaceName\\\\\\\\\\\\\\\": \\\\\\\\\\\\\\\"quick-starts-ws-138912\\\\\\\\\\\\\\\"}]}, \\\\\\\\\\\\\\\"localData\\\\\\\\\\\\\\\": {}, \\\\\\\\\\\\\\\"isEnabled\\\\\\\\\\\\\\\": true, \\\\\\\\\\\\\\\"name\\\\\\\\\\\\\\\": null, \\\\\\\\\\\\\\\"annotation\\\\\\\\\\\\\\\": null}, {\\\\\\\\\\\\\\\"id\\\\\\\\\\\\\\\": \\\\\\\\\\\\\\\"8b2a8ab9-9924-46bf-9517-932ca18ce821\\\\\\\\\\\\\\\", \\\\\\\\\\\\\\\"type\\\\\\\\\\\\\\\": \\\\\\\\\\\\\\\"Microsoft.DPrep.ParseDelimitedBlock\\\\\\\\\\\\\\\", \\\\\\\\\\\\\\\"arguments\\\\\\\\\\\\\\\": {\\\\\\\\\\\\\\\"columnHeadersMode\\\\\\\\\\\\\\\": 3, \\\\\\\\\\\\\\\"fileEncoding\\\\\\\\\\\\\\\": 0, \\\\\\\\\\\\\\\"handleQuotedLineBreaks\\\\\\\\\\\\\\\": false, \\\\\\\\\\\\\\\"preview\\\\\\\\\\\\\\\": false, \\\\\\\\\\\\\\\"separator\\\\\\\\\\\\\\\": \\\\\\\\\\\\\\\",\\\\\\\\\\\\\\\", \\\\\\\\\\\\\\\"skipRows\\\\\\\\\\\\\\\": 0, \\\\\\\\\\\\\\\"skipRowsMode\\\\\\\\\\\\\\\": 0}, \\\\\\\\\\\\\\\"localData\\\\\\\\\\\\\\\": {}, \\\\\\\\\\\\\\\"isEnabled\\\\\\\\\\\\\\\": true, \\\\\\\\\\\\\\\"name\\\\\\\\\\\\\\\": null, \\\\\\\\\\\\\\\"annotation\\\\\\\\\\\\\\\": null}, {\\\\\\\\\\\\\\\"id\\\\\\\\\\\\\\\": \\\\\\\\\\\\\\\"14ca6b58-0031-48dd-9659-bb14bc0365bd\\\\\\\\\\\\\\\", \\\\\\\\\\\\\\\"type\\\\\\\\\\\\\\\": \\\\\\\\\\\\\\\"Microsoft.DPrep.DropColumnsBlock\\\\\\\\\\\\\\\", \\\\\\\\\\\\\\\"arguments\\\\\\\\\\\\\\\": {\\\\\\\\\\\\\\\"columns\\\\\\\\\\\\\\\": {\\\\\\\\\\\\\\\"type\\\\\\\\\\\\\\\": 0, \\\\\\\\\\\\\\\"details\\\\\\\\\\\\\\\": {\\\\\\\\\\\\\\\"selectedColumns\\\\\\\\\\\\\\\": [\\\\\\\\\\\\\\\"Path\\\\\\\\\\\\\\\"]}}}, \\\\\\\\\\\\\\\"localData\\\\\\\\\\\\\\\": {}, \\\\\\\\\\\\\\\"isEnabled\\\\\\\\\\\\\\\": true, \\\\\\\\\\\\\\\"name\\\\\\\\\\\\\\\": null, \\\\\\\\\\\\\\\"annotation\\\\\\\\\\\\\\\": null}, {\\\\\\\\\\\\\\\"id\\\\\\\\\\\\\\\": \\\\\\\\\\\\\\\"72b34afb-1959-4848-b25d-8f4941c32b11\\\\\\\\\\\\\\\", \\\\\\\\\\\\\\\"type\\\\\\\\\\\\\\\": \\\\\\\\\\\\\\\"Microsoft.DPrep.SetColumnTypesBlock\\\\\\\\\\\\\\\", \\\\\\\\\\\\\\\"arguments\\\\\\\\\\\\\\\": {\\\\\\\\\\\\\\\"columnConversion\\\\\\\\\\\\\\\": [{\\\\\\\\\\\\\\\"column\\\\\\\\\\\\\\\": {\\\\\\\\\\\\\\\"type\\\\\\\\\\\\\\\": 2, \\\\\\\\\\\\\\\"details\\\\\\\\\\\\\\\": {\\\\\\\\\\\\\\\"selectedColumn\\\\\\\\\\\\\\\": \\\\\\\\\\\\\\\"Path\\\\\\\\\\\\\\\"}}, \\\\\\\\\\\\\\\"typeProperty\\\\\\\\\\\\\\\": 0}, {\\\\\\\\\\\\\\\"column\\\\\\\\\\\\\\\": {\\\\\\\\\\\\\\\"type\\\\\\\\\\\\\\\": 2, \\\\\\\\\\\\\\\"details\\\\\\\\\\\\\\\": {\\\\\\\\\\\\\\\"selectedColumn\\\\\\\\\\\\\\\": \\\\\\\\\\\\\\\"Pregnancies\\\\\\\\\\\\\\\"}}, \\\\\\\\\\\\\\\"typeProperty\\\\\\\\\\\\\\\": 2}, {\\\\\\\\\\\\\\\"column\\\\\\\\\\\\\\\": {\\\\\\\\\\\\\\\"type\\\\\\\\\\\\\\\": 2, \\\\\\\\\\\\\\\"details\\\\\\\\\\\\\\\": {\\\\\\\\\\\\\\\"selectedColumn\\\\\\\\\\\\\\\": \\\\\\\\\\\\\\\"Glucose\\\\\\\\\\\\\\\"}}, \\\\\\\\\\\\\\\"typeProperty\\\\\\\\\\\\\\\": 2}, {\\\\\\\\\\\\\\\"column\\\\\\\\\\\\\\\": {\\\\\\\\\\\\\\\"type\\\\\\\\\\\\\\\": 2, \\\\\\\\\\\\\\\"details\\\\\\\\\\\\\\\": {\\\\\\\\\\\\\\\"selectedColumn\\\\\\\\\\\\\\\": \\\\\\\\\\\\\\\"BloodPressure\\\\\\\\\\\\\\\"}}, \\\\\\\\\\\\\\\"typeProperty\\\\\\\\\\\\\\\": 2}, {\\\\\\\\\\\\\\\"column\\\\\\\\\\\\\\\": {\\\\\\\\\\\\\\\"type\\\\\\\\\\\\\\\": 2, \\\\\\\\\\\\\\\"details\\\\\\\\\\\\\\\": {\\\\\\\\\\\\\\\"selectedColumn\\\\\\\\\\\\\\\": \\\\\\\\\\\\\\\"SkinThickness\\\\\\\\\\\\\\\"}}, \\\\\\\\\\\\\\\"typeProperty\\\\\\\\\\\\\\\": 2}, {\\\\\\\\\\\\\\\"column\\\\\\\\\\\\\\\": {\\\\\\\\\\\\\\\"type\\\\\\\\\\\\\\\": 2, \\\\\\\\\\\\\\\"details\\\\\\\\\\\\\\\": {\\\\\\\\\\\\\\\"selectedColumn\\\\\\\\\\\\\\\": \\\\\\\\\\\\\\\"Insulin\\\\\\\\\\\\\\\"}}, \\\\\\\\\\\\\\\"typeProperty\\\\\\\\\\\\\\\": 2}, {\\\\\\\\\\\\\\\"column\\\\\\\\\\\\\\\": {\\\\\\\\\\\\\\\"type\\\\\\\\\\\\\\\": 2, \\\\\\\\\\\\\\\"details\\\\\\\\\\\\\\\": {\\\\\\\\\\\\\\\"selectedColumn\\\\\\\\\\\\\\\": \\\\\\\\\\\\\\\"BMI\\\\\\\\\\\\\\\"}}, \\\\\\\\\\\\\\\"typeProperty\\\\\\\\\\\\\\\": 3}, {\\\\\\\\\\\\\\\"column\\\\\\\\\\\\\\\": {\\\\\\\\\\\\\\\"type\\\\\\\\\\\\\\\": 2, \\\\\\\\\\\\\\\"details\\\\\\\\\\\\\\\": {\\\\\\\\\\\\\\\"selectedColumn\\\\\\\\\\\\\\\": \\\\\\\\\\\\\\\"DiabetesPedigreeFunction\\\\\\\\\\\\\\\"}}, \\\\\\\\\\\\\\\"typeProperty\\\\\\\\\\\\\\\": 3}, {\\\\\\\\\\\\\\\"column\\\\\\\\\\\\\\\": {\\\\\\\\\\\\\\\"type\\\\\\\\\\\\\\\": 2, \\\\\\\\\\\\\\\"details\\\\\\\\\\\\\\\": {\\\\\\\\\\\\\\\"selectedColumn\\\\\\\\\\\\\\\": \\\\\\\\\\\\\\\"Age\\\\\\\\\\\\\\\"}}, \\\\\\\\\\\\\\\"typeProperty\\\\\\\\\\\\\\\": 2}, {\\\\\\\\\\\\\\\"column\\\\\\\\\\\\\\\": {\\\\\\\\\\\\\\\"type\\\\\\\\\\\\\\\": 2, \\\\\\\\\\\\\\\"details\\\\\\\\\\\\\\\": {\\\\\\\\\\\\\\\"selectedColumn\\\\\\\\\\\\\\\": \\\\\\\\\\\\\\\"Outcome\\\\\\\\\\\\\\\"}}, \\\\\\\\\\\\\\\"typeProperty\\\\\\\\\\\\\\\": 2}]}, \\\\\\\\\\\\\\\"localData\\\\\\\\\\\\\\\": {}, \\\\\\\\\\\\\\\"isEnabled\\\\\\\\\\\\\\\": true, \\\\\\\\\\\\\\\"name\\\\\\\\\\\\\\\": null, \\\\\\\\\\\\\\\"annotation\\\\\\\\\\\\\\\": null}], \\\\\\\\\\\\\\\"inspectors\\\\\\\\\\\\\\\": [], \\\\\\\\\\\\\\\"meta\\\\\\\\\\\\\\\": {\\\\\\\\\\\\\\\"savedDatasetId\\\\\\\\\\\\\\\": \\\\\\\\\\\\\\\"f18913f8-b280-4eb9-94b1-b18249536a79\\\\\\\\\\\\\\\", \\\\\\\\\\\\\\\"datasetType\\\\\\\\\\\\\\\": \\\\\\\\\\\\\\\"tabular\\\\\\\\\\\\\\\", \\\\\\\\\\\\\\\"subscriptionId\\\\\\\\\\\\\\\": \\\\\\\\\\\\\\\"b968fb36-f06a-4c76-a15f-afab68ae7667\\\\\\\\\\\\\\\", \\\\\\\\\\\\\\\"workspaceId\\\\\\\\\\\\\\\": \\\\\\\\\\\\\\\"8a3e3d52-5ff2-4ce7-8f68-93f8c1aeaac6\\\\\\\\\\\\\\\", \\\\\\\\\\\\\\\"workspaceLocation\\\\\\\\\\\\\\\": \\\\\\\\\\\\\\\"southcentralus\\\\\\\\\\\\\\\"}}\\\\\\\", \\\\\\\"activities\\\\\\\": 0}\", \"EnableSubsampling\": \"False\", \"runTemplate\": \"AutoML\", \"azureml.runsource\": \"automl\", \"display_task_type\": \"classification\", \"dependencies_versions\": \"{\\\"azureml-widgets\\\": \\\"1.20.0\\\", \\\"azureml-train\\\": \\\"1.20.0\\\", \\\"azureml-train-restclients-hyperdrive\\\": \\\"1.20.0\\\", \\\"azureml-train-core\\\": \\\"1.20.0\\\", \\\"azureml-train-automl\\\": \\\"1.20.0\\\", \\\"azureml-train-automl-runtime\\\": \\\"1.20.0\\\", \\\"azureml-train-automl-client\\\": \\\"1.20.0\\\", \\\"azureml-tensorboard\\\": \\\"1.20.0\\\", \\\"azureml-telemetry\\\": \\\"1.20.0\\\", \\\"azureml-sdk\\\": \\\"1.20.0\\\", \\\"azureml-samples\\\": \\\"0+unknown\\\", \\\"azureml-pipeline\\\": \\\"1.20.0\\\", \\\"azureml-pipeline-steps\\\": \\\"1.20.0\\\", \\\"azureml-pipeline-core\\\": \\\"1.20.0\\\", \\\"azureml-opendatasets\\\": \\\"1.20.0\\\", \\\"azureml-model-management-sdk\\\": \\\"1.0.1b6.post1\\\", \\\"azureml-mlflow\\\": \\\"1.20.0.post1\\\", \\\"azureml-interpret\\\": \\\"1.20.0\\\", \\\"azureml-explain-model\\\": \\\"1.20.0\\\", \\\"azureml-defaults\\\": \\\"1.20.0\\\", \\\"azureml-dataset-runtime\\\": \\\"1.20.0\\\", \\\"azureml-dataprep\\\": \\\"2.7.3\\\", \\\"azureml-dataprep-rslex\\\": \\\"1.5.0\\\", \\\"azureml-dataprep-native\\\": \\\"27.0.0\\\", \\\"azureml-datadrift\\\": \\\"1.20.0\\\", \\\"azureml-core\\\": \\\"1.20.0\\\", \\\"azureml-contrib-services\\\": \\\"1.20.0\\\", \\\"azureml-contrib-server\\\": \\\"1.20.0\\\", \\\"azureml-contrib-reinforcementlearning\\\": \\\"1.20.0\\\", \\\"azureml-contrib-pipeline-steps\\\": \\\"1.20.0\\\", \\\"azureml-contrib-notebook\\\": \\\"1.20.0\\\", \\\"azureml-contrib-interpret\\\": \\\"1.20.0\\\", \\\"azureml-contrib-gbdt\\\": \\\"1.20.0\\\", \\\"azureml-contrib-fairness\\\": \\\"1.20.0\\\", \\\"azureml-contrib-dataset\\\": \\\"1.20.0\\\", \\\"azureml-cli-common\\\": \\\"1.20.0\\\", \\\"azureml-automl-runtime\\\": \\\"1.20.0\\\", \\\"azureml-automl-core\\\": \\\"1.20.0\\\", \\\"azureml-accel-models\\\": \\\"1.20.0\\\"}\", \"_aml_system_scenario_identification\": \"Remote.Parent\", \"ClientType\": \"SDK\", \"environment_cpu_name\": \"AzureML-AutoML\", \"environment_cpu_label\": \"prod\", \"environment_gpu_name\": \"AzureML-AutoML-GPU\", \"environment_gpu_label\": \"prod\", \"root_attribution\": \"automl\", \"attribution\": \"AutoML\", \"Orchestrator\": \"AutoML\", \"CancelUri\": \"https://southcentralus.experiments.azureml.net/jasmine/v1.0/subscriptions/b968fb36-f06a-4c76-a15f-afab68ae7667/resourceGroups/aml-quickstarts-138912/providers/Microsoft.MachineLearningServices/workspaces/quick-starts-ws-138912/experimentids/dae083dc-6d3b-4aa8-8ac1-b99ec064a02d/cancel/AutoML_01843660-d936-4a03-a31a-ece32909196e\", \"ClientSdkVersion\": \"1.21.0\", \"snapshotId\": \"00000000-0000-0000-0000-000000000000\", \"SetupRunId\": \"AutoML_01843660-d936-4a03-a31a-ece32909196e_setup\", \"SetupRunContainerId\": \"dcid.AutoML_01843660-d936-4a03-a31a-ece32909196e_setup\", \"FeaturizationRunJsonPath\": \"featurizer_container.json\", \"FeaturizationRunId\": \"AutoML_01843660-d936-4a03-a31a-ece32909196e_featurize\", \"ProblemInfoJsonString\": \"{\\\"dataset_num_categorical\\\": 0, \\\"is_sparse\\\": true, \\\"subsampling\\\": false, \\\"dataset_classes\\\": 2, \\\"dataset_features\\\": 24, \\\"dataset_samples\\\": 768, \\\"single_frequency_class_detected\\\": false}\", \"ModelExplainRunId\": \"AutoML_01843660-d936-4a03-a31a-ece32909196e_ModelExplain\"}, \"tags\": {\"model_explain_run\": \"best_run\", \"_aml_system_azureml.automlComponent\": \"AutoML\", \"pipeline_id\": \"\", \"score\": \"\", \"predicted_cost\": \"\", \"fit_time\": \"\", \"training_percent\": \"\", \"iteration\": \"\", \"run_preprocessor\": \"\", \"run_algorithm\": \"\", \"automl_best_child_run_id\": \"AutoML_01843660-d936-4a03-a31a-ece32909196e_22\", \"model_explain_best_run_child_id\": \"AutoML_01843660-d936-4a03-a31a-ece32909196e_22\"}, \"end_time_utc\": \"2021-02-14T21:45:24.245199Z\", \"status\": \"Completed\", \"log_files\": {}, \"log_groups\": [], \"run_duration\": \"0:15:40\"}, \"child_runs\": [{\"run_id\": \"AutoML_01843660-d936-4a03-a31a-ece32909196e_0\", \"run_number\": 5, \"metric\": null, \"status\": \"Completed\", \"run_type\": \"azureml.scriptrun\", \"training_percent\": \"100\", \"start_time\": \"2021-02-14T21:35:12.174017Z\", \"end_time\": \"2021-02-14T21:36:20.023136Z\", \"created_time\": \"2021-02-14T21:34:59.916487Z\", \"created_time_dt\": \"2021-02-14T21:34:59.916487Z\", \"duration\": \"0:01:20\", \"iteration\": \"0\", \"goal\": \"accuracy_max\", \"run_name\": \"MaxAbsScaler, LightGBM\", \"run_properties\": \"copy=True\", \"primary_metric\": 0.74352771, \"best_metric\": 0.74352771}, {\"run_id\": \"AutoML_01843660-d936-4a03-a31a-ece32909196e_2\", \"run_number\": 6, \"metric\": null, \"status\": \"Completed\", \"run_type\": \"azureml.scriptrun\", \"training_percent\": \"100\", \"start_time\": \"2021-02-14T21:35:13.964862Z\", \"end_time\": \"2021-02-14T21:36:20.17002Z\", \"created_time\": \"2021-02-14T21:34:59.932729Z\", \"created_time_dt\": \"2021-02-14T21:34:59.932729Z\", \"duration\": \"0:01:20\", \"iteration\": \"2\", \"goal\": \"accuracy_max\", \"run_name\": \"MaxAbsScaler, RandomForest\", \"run_properties\": \"copy=True\", \"primary_metric\": 0.75521603, \"best_metric\": 0.76563959}, {\"run_id\": \"AutoML_01843660-d936-4a03-a31a-ece32909196e_1\", \"run_number\": 7, \"metric\": null, \"status\": \"Completed\", \"run_type\": \"azureml.scriptrun\", \"training_percent\": \"100\", \"start_time\": \"2021-02-14T21:35:15.929568Z\", \"end_time\": \"2021-02-14T21:36:23.870682Z\", \"created_time\": \"2021-02-14T21:34:59.952673Z\", \"created_time_dt\": \"2021-02-14T21:34:59.952673Z\", \"duration\": \"0:01:23\", \"iteration\": \"1\", \"goal\": \"accuracy_max\", \"run_name\": \"MaxAbsScaler, XGBoostClassifier\", \"run_properties\": \"copy=True\", \"primary_metric\": 0.76563959, \"best_metric\": 0.76563959}, {\"run_id\": \"AutoML_01843660-d936-4a03-a31a-ece32909196e_3\", \"run_number\": 8, \"metric\": null, \"status\": \"Completed\", \"run_type\": \"azureml.scriptrun\", \"training_percent\": \"100\", \"start_time\": \"2021-02-14T21:35:13.579024Z\", \"end_time\": \"2021-02-14T21:36:19.167554Z\", \"created_time\": \"2021-02-14T21:34:59.967938Z\", \"created_time_dt\": \"2021-02-14T21:34:59.967938Z\", \"duration\": \"0:01:19\", \"iteration\": \"3\", \"goal\": \"accuracy_max\", \"run_name\": \"MaxAbsScaler, RandomForest\", \"run_properties\": \"copy=True\", \"primary_metric\": 0.75791529, \"best_metric\": 0.76563959}, {\"run_id\": \"AutoML_01843660-d936-4a03-a31a-ece32909196e_4\", \"run_number\": 9, \"metric\": null, \"status\": \"Completed\", \"run_type\": \"azureml.scriptrun\", \"training_percent\": \"100\", \"start_time\": \"2021-02-14T21:36:38.971166Z\", \"end_time\": \"2021-02-14T21:37:51.140479Z\", \"created_time\": \"2021-02-14T21:36:22.646632Z\", \"created_time_dt\": \"2021-02-14T21:36:22.646632Z\", \"duration\": \"0:01:28\", \"iteration\": \"4\", \"goal\": \"accuracy_max\", \"run_name\": \"MaxAbsScaler, RandomForest\", \"run_properties\": \"copy=True\", \"primary_metric\": 0.75780494, \"best_metric\": 0.76563959}, {\"run_id\": \"AutoML_01843660-d936-4a03-a31a-ece32909196e_5\", \"run_number\": 10, \"metric\": null, \"status\": \"Completed\", \"run_type\": \"azureml.scriptrun\", \"training_percent\": \"100\", \"start_time\": \"2021-02-14T21:36:38.862627Z\", \"end_time\": \"2021-02-14T21:37:43.334716Z\", \"created_time\": \"2021-02-14T21:36:22.75939Z\", \"created_time_dt\": \"2021-02-14T21:36:22.75939Z\", \"duration\": \"0:01:20\", \"iteration\": \"5\", \"goal\": \"accuracy_max\", \"run_name\": \"MaxAbsScaler, RandomForest\", \"run_properties\": \"copy=True\", \"primary_metric\": 0.73441134, \"best_metric\": 0.76563959}, {\"run_id\": \"AutoML_01843660-d936-4a03-a31a-ece32909196e_7\", \"run_number\": 11, \"metric\": null, \"status\": \"Completed\", \"run_type\": \"azureml.scriptrun\", \"training_percent\": \"100\", \"start_time\": \"2021-02-14T21:36:40.737715Z\", \"end_time\": \"2021-02-14T21:37:50.608372Z\", \"created_time\": \"2021-02-14T21:36:28.395665Z\", \"created_time_dt\": \"2021-02-14T21:36:28.395665Z\", \"duration\": \"0:01:22\", \"iteration\": \"7\", \"goal\": \"accuracy_max\", \"run_name\": \"SparseNormalizer, XGBoostClassifier\", \"run_properties\": \"<azureml.automl.runtime.shared.model_wrappers.SparseNormalizer object at 0x7f04c46b3a58\", \"primary_metric\": 0.71102623, \"best_metric\": 0.76563959}, {\"run_id\": \"AutoML_01843660-d936-4a03-a31a-ece32909196e_6\", \"run_number\": 12, \"metric\": null, \"status\": \"Completed\", \"run_type\": \"azureml.scriptrun\", \"training_percent\": \"100\", \"start_time\": \"2021-02-14T21:36:40.162323Z\", \"end_time\": \"2021-02-14T21:37:47.589719Z\", \"created_time\": \"2021-02-14T21:36:28.396893Z\", \"created_time_dt\": \"2021-02-14T21:36:28.396893Z\", \"duration\": \"0:01:19\", \"iteration\": \"6\", \"goal\": \"accuracy_max\", \"run_name\": \"SparseNormalizer, XGBoostClassifier\", \"run_properties\": \"<azureml.automl.runtime.shared.model_wrappers.SparseNormalizer object at 0x7f96091e4588\", \"primary_metric\": 0.71886088, \"best_metric\": 0.76563959}, {\"run_id\": \"AutoML_01843660-d936-4a03-a31a-ece32909196e_8\", \"run_number\": 13, \"metric\": null, \"status\": \"Completed\", \"run_type\": \"azureml.scriptrun\", \"training_percent\": \"100\", \"start_time\": \"2021-02-14T21:38:04.91976Z\", \"end_time\": \"2021-02-14T21:39:15.43672Z\", \"created_time\": \"2021-02-14T21:37:45.893287Z\", \"created_time_dt\": \"2021-02-14T21:37:45.893287Z\", \"duration\": \"0:01:29\", \"iteration\": \"8\", \"goal\": \"accuracy_max\", \"run_name\": \"SparseNormalizer, XGBoostClassifier\", \"run_properties\": \"<azureml.automl.runtime.shared.model_wrappers.SparseNormalizer object at 0x7f5c724b8710\", \"primary_metric\": 0.70453272, \"best_metric\": 0.76563959}, {\"run_id\": \"AutoML_01843660-d936-4a03-a31a-ece32909196e_9\", \"run_number\": 14, \"metric\": null, \"status\": \"Completed\", \"run_type\": \"azureml.scriptrun\", \"training_percent\": \"100\", \"start_time\": \"2021-02-14T21:38:04.351351Z\", \"end_time\": \"2021-02-14T21:39:14.695799Z\", \"created_time\": \"2021-02-14T21:37:51.673078Z\", \"created_time_dt\": \"2021-02-14T21:37:51.673078Z\", \"duration\": \"0:01:23\", \"iteration\": \"9\", \"goal\": \"accuracy_max\", \"run_name\": \"SparseNormalizer, XGBoostClassifier\", \"run_properties\": \"<azureml.automl.runtime.shared.model_wrappers.SparseNormalizer object at 0x7efde837a7b8\", \"primary_metric\": 0.64846787, \"best_metric\": 0.76563959}, {\"run_id\": \"AutoML_01843660-d936-4a03-a31a-ece32909196e_10\", \"run_number\": 15, \"metric\": null, \"status\": \"Completed\", \"run_type\": \"azureml.scriptrun\", \"training_percent\": \"100\", \"start_time\": \"2021-02-14T21:38:08.37864Z\", \"end_time\": \"2021-02-14T21:39:12.874939Z\", \"created_time\": \"2021-02-14T21:37:55.632944Z\", \"created_time_dt\": \"2021-02-14T21:37:55.632944Z\", \"duration\": \"0:01:17\", \"iteration\": \"10\", \"goal\": \"accuracy_max\", \"run_name\": \"MaxAbsScaler, RandomForest\", \"run_properties\": \"copy=True\", \"primary_metric\": 0.75916306, \"best_metric\": 0.76563959}, {\"run_id\": \"AutoML_01843660-d936-4a03-a31a-ece32909196e_11\", \"run_number\": 16, \"metric\": null, \"status\": \"Completed\", \"run_type\": \"azureml.scriptrun\", \"training_percent\": \"100\", \"start_time\": \"2021-02-14T21:38:08.444493Z\", \"end_time\": \"2021-02-14T21:39:13.637347Z\", \"created_time\": \"2021-02-14T21:37:55.804784Z\", \"created_time_dt\": \"2021-02-14T21:37:55.804784Z\", \"duration\": \"0:01:17\", \"iteration\": \"11\", \"goal\": \"accuracy_max\", \"run_name\": \"StandardScalerWrapper, RandomForest\", \"run_properties\": \"<azureml.automl.runtime.shared.model_wrappers.StandardScalerWrapper object at 0x7f6866cb6cf8\", \"primary_metric\": 0.76305916, \"best_metric\": 0.76563959}, {\"run_id\": \"AutoML_01843660-d936-4a03-a31a-ece32909196e_12\", \"run_number\": 17, \"metric\": null, \"status\": \"Completed\", \"run_type\": \"azureml.scriptrun\", \"training_percent\": \"100\", \"start_time\": \"2021-02-14T21:39:28.535488Z\", \"end_time\": \"2021-02-14T21:40:45.736407Z\", \"created_time\": \"2021-02-14T21:39:16.37509Z\", \"created_time_dt\": \"2021-02-14T21:39:16.37509Z\", \"duration\": \"0:01:29\", \"iteration\": \"12\", \"goal\": \"accuracy_max\", \"run_name\": \"MaxAbsScaler, LogisticRegression\", \"run_properties\": \"copy=True\", \"primary_metric\": 0.76826246, \"best_metric\": 0.76826246}, {\"run_id\": \"AutoML_01843660-d936-4a03-a31a-ece32909196e_13\", \"run_number\": 18, \"metric\": null, \"status\": \"Completed\", \"run_type\": \"azureml.scriptrun\", \"training_percent\": \"100\", \"start_time\": \"2021-02-14T21:39:29.086703Z\", \"end_time\": \"2021-02-14T21:40:43.27389Z\", \"created_time\": \"2021-02-14T21:39:16.59767Z\", \"created_time_dt\": \"2021-02-14T21:39:16.59767Z\", \"duration\": \"0:01:26\", \"iteration\": \"13\", \"goal\": \"accuracy_max\", \"run_name\": \"MaxAbsScaler, ExtremeRandomTrees\", \"run_properties\": \"copy=True\", \"primary_metric\": 0.7435362, \"best_metric\": 0.76826246}, {\"run_id\": \"AutoML_01843660-d936-4a03-a31a-ece32909196e_14\", \"run_number\": 19, \"metric\": null, \"status\": \"Completed\", \"run_type\": \"azureml.scriptrun\", \"training_percent\": \"100\", \"start_time\": \"2021-02-14T21:39:33.185204Z\", \"end_time\": \"2021-02-14T21:40:40.332438Z\", \"created_time\": \"2021-02-14T21:39:21.388307Z\", \"created_time_dt\": \"2021-02-14T21:39:21.388307Z\", \"duration\": \"0:01:18\", \"iteration\": \"14\", \"goal\": \"accuracy_max\", \"run_name\": \"MaxAbsScaler, LightGBM\", \"run_properties\": \"copy=True\", \"primary_metric\": 0.74740684, \"best_metric\": 0.76826246}, {\"run_id\": \"AutoML_01843660-d936-4a03-a31a-ece32909196e_15\", \"run_number\": 20, \"metric\": null, \"status\": \"Completed\", \"run_type\": \"azureml.scriptrun\", \"training_percent\": \"100\", \"start_time\": \"2021-02-14T21:39:31.540728Z\", \"end_time\": \"2021-02-14T21:40:40.308144Z\", \"created_time\": \"2021-02-14T21:39:21.43092Z\", \"created_time_dt\": \"2021-02-14T21:39:21.43092Z\", \"duration\": \"0:01:18\", \"iteration\": \"15\", \"goal\": \"accuracy_max\", \"run_name\": \"MaxAbsScaler, LightGBM\", \"run_properties\": \"copy=True\", \"primary_metric\": 0.74094729, \"best_metric\": 0.76826246}, {\"run_id\": \"AutoML_01843660-d936-4a03-a31a-ece32909196e_16\", \"run_number\": 21, \"metric\": null, \"status\": \"Completed\", \"run_type\": \"azureml.scriptrun\", \"training_percent\": \"100\", \"start_time\": \"2021-02-14T21:40:58.067803Z\", \"end_time\": \"2021-02-14T21:42:03.797757Z\", \"created_time\": \"2021-02-14T21:40:42.827828Z\", \"created_time_dt\": \"2021-02-14T21:40:42.827828Z\", \"duration\": \"0:01:20\", \"iteration\": \"16\", \"goal\": \"accuracy_max\", \"run_name\": \"MaxAbsScaler, LightGBM\", \"run_properties\": \"copy=True\", \"primary_metric\": 0.76569052, \"best_metric\": 0.76826246}, {\"run_id\": \"AutoML_01843660-d936-4a03-a31a-ece32909196e_17\", \"run_number\": 22, \"metric\": null, \"status\": \"Completed\", \"run_type\": \"azureml.scriptrun\", \"training_percent\": \"100\", \"start_time\": \"2021-02-14T21:40:57.653832Z\", \"end_time\": \"2021-02-14T21:42:06.112221Z\", \"created_time\": \"2021-02-14T21:40:42.987774Z\", \"created_time_dt\": \"2021-02-14T21:40:42.987774Z\", \"duration\": \"0:01:23\", \"iteration\": \"17\", \"goal\": \"accuracy_max\", \"run_name\": \"MaxAbsScaler, LogisticRegression\", \"run_properties\": \"copy=True\", \"primary_metric\": 0.77089381, \"best_metric\": 0.77089381}, {\"run_id\": \"AutoML_01843660-d936-4a03-a31a-ece32909196e_19\", \"run_number\": 23, \"metric\": null, \"status\": \"Completed\", \"run_type\": \"azureml.scriptrun\", \"training_percent\": \"100\", \"start_time\": \"2021-02-14T21:41:00.466581Z\", \"end_time\": \"2021-02-14T21:42:08.10608Z\", \"created_time\": \"2021-02-14T21:40:48.393864Z\", \"created_time_dt\": \"2021-02-14T21:40:48.393864Z\", \"duration\": \"0:01:19\", \"iteration\": \"19\", \"goal\": \"accuracy_max\", \"run_name\": \"SparseNormalizer, XGBoostClassifier\", \"run_properties\": \"<azureml.automl.runtime.shared.model_wrappers.SparseNormalizer object at 0x7f4268435e10\", \"primary_metric\": 0.69407521, \"best_metric\": 0.77089381}, {\"run_id\": \"AutoML_01843660-d936-4a03-a31a-ece32909196e_18\", \"run_number\": 24, \"metric\": null, \"status\": \"Completed\", \"run_type\": \"azureml.scriptrun\", \"training_percent\": \"100\", \"start_time\": \"2021-02-14T21:41:00.506249Z\", \"end_time\": \"2021-02-14T21:42:07.71025Z\", \"created_time\": \"2021-02-14T21:40:48.653995Z\", \"created_time_dt\": \"2021-02-14T21:40:48.653995Z\", \"duration\": \"0:01:19\", \"iteration\": \"18\", \"goal\": \"accuracy_max\", \"run_name\": \"SparseNormalizer, LightGBM\", \"run_properties\": \"<azureml.automl.runtime.shared.model_wrappers.SparseNormalizer object at 0x7f97e13bc208\", \"primary_metric\": 0.67585095, \"best_metric\": 0.77089381}, {\"run_id\": \"AutoML_01843660-d936-4a03-a31a-ece32909196e_20\", \"run_number\": 25, \"metric\": null, \"status\": \"Completed\", \"run_type\": \"azureml.scriptrun\", \"training_percent\": \"100\", \"start_time\": \"2021-02-14T21:42:20.892511Z\", \"end_time\": \"2021-02-14T21:43:31.312912Z\", \"created_time\": \"2021-02-14T21:42:05.999599Z\", \"created_time_dt\": \"2021-02-14T21:42:05.999599Z\", \"duration\": \"0:01:25\", \"iteration\": \"20\", \"goal\": \"accuracy_max\", \"run_name\": \"SparseNormalizer, LightGBM\", \"run_properties\": \"<azureml.automl.runtime.shared.model_wrappers.SparseNormalizer object at 0x7fefa8b4d748\", \"primary_metric\": 0.64591291, \"best_metric\": 0.77089381}, {\"run_id\": \"AutoML_01843660-d936-4a03-a31a-ece32909196e_21\", \"run_number\": 26, \"metric\": null, \"status\": \"Completed\", \"run_type\": \"azureml.scriptrun\", \"training_percent\": \"100\", \"start_time\": \"2021-02-14T21:42:22.058926Z\", \"end_time\": \"2021-02-14T21:43:22.657103Z\", \"created_time\": \"2021-02-14T21:42:11.086148Z\", \"created_time_dt\": \"2021-02-14T21:42:11.086148Z\", \"duration\": \"0:01:11\", \"iteration\": \"21\", \"goal\": \"accuracy_max\", \"run_name\": \"SparseNormalizer, XGBoostClassifier\", \"run_properties\": \"<azureml.automl.runtime.shared.model_wrappers.SparseNormalizer object at 0x7f62c9d81160\", \"primary_metric\": 0.70711315, \"best_metric\": 0.77089381}, {\"run_id\": \"AutoML_01843660-d936-4a03-a31a-ece32909196e_22\", \"run_number\": 27, \"metric\": null, \"status\": \"Completed\", \"run_type\": \"azureml.scriptrun\", \"training_percent\": \"100\", \"start_time\": \"2021-02-14T21:43:46.556231Z\", \"end_time\": \"2021-02-14T21:45:19.266712Z\", \"created_time\": \"2021-02-14T21:43:32.434652Z\", \"created_time_dt\": \"2021-02-14T21:43:32.434652Z\", \"duration\": \"0:01:46\", \"iteration\": \"22\", \"goal\": \"accuracy_max\", \"run_name\": \"VotingEnsemble\", \"run_properties\": \"classification_labels=None,\\n                              estimators=[('17',\\n                                           Pipeline(memory=None,\\n                                                    steps=[('maxabsscaler',\\n                                                            MaxAbsScaler(copy=True\", \"primary_metric\": 0.78781088, \"best_metric\": 0.78781088}, {\"run_id\": \"AutoML_01843660-d936-4a03-a31a-ece32909196e_23\", \"run_number\": 28, \"metric\": null, \"status\": \"Completed\", \"run_type\": \"azureml.scriptrun\", \"training_percent\": \"100\", \"start_time\": \"2021-02-14T21:43:45.124843Z\", \"end_time\": \"2021-02-14T21:45:15.081198Z\", \"created_time\": \"2021-02-14T21:43:32.604552Z\", \"created_time_dt\": \"2021-02-14T21:43:32.604552Z\", \"duration\": \"0:01:42\", \"iteration\": \"23\", \"goal\": \"accuracy_max\", \"run_name\": \"StackEnsemble\", \"run_properties\": \"base_learners=[('17',\\n                                        Pipeline(memory=None,\\n                                                 steps=[('maxabsscaler',\\n                                                         MaxAbsScaler(copy=True\", \"primary_metric\": 0.77219251, \"best_metric\": 0.78781088}], \"children_metrics\": {\"categories\": [0], \"series\": {\"recall_score_micro\": [{\"categories\": [\"0\", \"1\", \"2\", \"3\", \"4\", \"5\", \"6\", \"7\", \"8\", \"9\", \"10\", \"11\", \"12\", \"13\", \"14\", \"15\", \"16\", \"17\", \"18\", \"19\", \"20\", \"21\", \"22\", \"23\"], \"mode\": \"markers\", \"name\": \"recall_score_micro\", \"stepped\": false, \"type\": \"scatter\", \"data\": [0.7435277141159494, 0.7656395891690009, 0.7552160258042611, 0.757915287327052, 0.7578049401578812, 0.7344113402936931, 0.718860877684407, 0.7110262286732875, 0.704532722179781, 0.6484678719972838, 0.7591630591630592, 0.763059163059163, 0.7682624564977505, 0.7435362023597317, 0.7474068415244887, 0.7409472880061115, 0.765690518631695, 0.7708938120702825, 0.6758509464391818, 0.6940752058399118, 0.645912910618793, 0.7071131482896189, 0.787810881928529, 0.7721925133689839]}, {\"categories\": [\"0\", \"1\", \"2\", \"3\", \"4\", \"5\", \"6\", \"7\", \"8\", \"9\", \"10\", \"11\", \"12\", \"13\", \"14\", \"15\", \"16\", \"17\", \"18\", \"19\", \"20\", \"21\", \"22\", \"23\"], \"mode\": \"lines\", \"name\": \"recall_score_micro_max\", \"stepped\": true, \"type\": \"scatter\", \"data\": [0.7435277141159494, 0.7656395891690009, 0.7656395891690009, 0.7656395891690009, 0.7656395891690009, 0.7656395891690009, 0.7656395891690009, 0.7656395891690009, 0.7656395891690009, 0.7656395891690009, 0.7656395891690009, 0.7656395891690009, 0.7682624564977505, 0.7682624564977505, 0.7682624564977505, 0.7682624564977505, 0.7682624564977505, 0.7708938120702825, 0.7708938120702825, 0.7708938120702825, 0.7708938120702825, 0.7708938120702825, 0.787810881928529, 0.787810881928529]}], \"weighted_accuracy\": [{\"categories\": [\"0\", \"1\", \"2\", \"3\", \"4\", \"5\", \"6\", \"7\", \"8\", \"9\", \"10\", \"11\", \"12\", \"13\", \"14\", \"15\", \"16\", \"17\", \"18\", \"19\", \"20\", \"21\", \"22\", \"23\"], \"mode\": \"markers\", \"name\": \"weighted_accuracy\", \"stepped\": false, \"type\": \"scatter\", \"data\": [0.7692349431628938, 0.7906595742312594, 0.8020642947001617, 0.8127277887339194, 0.7627243780373995, 0.7391068307454297, 0.7611297202652938, 0.7579924122975384, 0.7464178984592997, 0.7347270245101865, 0.7969739711827233, 0.8098409024150943, 0.8117980132034847, 0.8101976054035929, 0.807476535700738, 0.811351714371128, 0.8007629011703562, 0.8095292948689675, 0.7364737354087816, 0.7477165020957265, 0.7603792657274763, 0.7502307678886256, 0.8288071848964478, 0.8129101707508907]}, {\"categories\": [\"0\", \"1\", \"2\", \"3\", \"4\", \"5\", \"6\", \"7\", \"8\", \"9\", \"10\", \"11\", \"12\", \"13\", \"14\", \"15\", \"16\", \"17\", \"18\", \"19\", \"20\", \"21\", \"22\", \"23\"], \"mode\": \"lines\", \"name\": \"weighted_accuracy_max\", \"stepped\": true, \"type\": \"scatter\", \"data\": [0.7692349431628938, 0.7906595742312594, 0.8020642947001617, 0.8127277887339194, 0.8127277887339194, 0.8127277887339194, 0.8127277887339194, 0.8127277887339194, 0.8127277887339194, 0.8127277887339194, 0.8127277887339194, 0.8127277887339194, 0.8127277887339194, 0.8127277887339194, 0.8127277887339194, 0.8127277887339194, 0.8127277887339194, 0.8127277887339194, 0.8127277887339194, 0.8127277887339194, 0.8127277887339194, 0.8127277887339194, 0.8288071848964478, 0.8288071848964478]}], \"average_precision_score_micro\": [{\"categories\": [\"0\", \"1\", \"2\", \"3\", \"4\", \"5\", \"6\", \"7\", \"8\", \"9\", \"10\", \"11\", \"12\", \"13\", \"14\", \"15\", \"16\", \"17\", \"18\", \"19\", \"20\", \"21\", \"22\", \"23\"], \"mode\": \"markers\", \"name\": \"average_precision_score_micro\", \"stepped\": false, \"type\": \"scatter\", \"data\": [0.8327853787564277, 0.8532463783590838, 0.8492946651861166, 0.8329955822296309, 0.8349783789825409, 0.8104045817706214, 0.8035091285138671, 0.7841739193583097, 0.7746861330663863, 0.727791529370266, 0.8484280879470883, 0.849944179515013, 0.8304623944484577, 0.829034947425875, 0.8442146391925178, 0.8321332464815644, 0.8547189952754015, 0.8399898108977405, 0.7429785054709046, 0.7489103249492068, 0.7425991594176296, 0.7947174171547171, 0.8539149421181118, 0.8606920228339827]}, {\"categories\": [\"0\", \"1\", \"2\", \"3\", \"4\", \"5\", \"6\", \"7\", \"8\", \"9\", \"10\", \"11\", \"12\", \"13\", \"14\", \"15\", \"16\", \"17\", \"18\", \"19\", \"20\", \"21\", \"22\", \"23\"], \"mode\": \"lines\", \"name\": \"average_precision_score_micro_max\", \"stepped\": true, \"type\": \"scatter\", \"data\": [0.8327853787564277, 0.8532463783590838, 0.8532463783590838, 0.8532463783590838, 0.8532463783590838, 0.8532463783590838, 0.8532463783590838, 0.8532463783590838, 0.8532463783590838, 0.8532463783590838, 0.8532463783590838, 0.8532463783590838, 0.8532463783590838, 0.8532463783590838, 0.8532463783590838, 0.8532463783590838, 0.8547189952754015, 0.8547189952754015, 0.8547189952754015, 0.8547189952754015, 0.8547189952754015, 0.8547189952754015, 0.8547189952754015, 0.8606920228339827]}], \"matthews_correlation\": [{\"categories\": [\"0\", \"1\", \"2\", \"3\", \"4\", \"5\", \"6\", \"7\", \"8\", \"9\", \"10\", \"11\", \"12\", \"13\", \"14\", \"15\", \"16\", \"17\", \"18\", \"19\", \"20\", \"21\", \"22\", \"23\"], \"mode\": \"markers\", \"name\": \"matthews_correlation\", \"stepped\": false, \"type\": \"scatter\", \"data\": [0.4246377532584085, 0.4736437134256053, 0.4269613743118388, 0.4389146925628141, 0.4847111883220173, 0.4393793215372389, 0.3536736003429463, 0.3296689207197475, 0.32056869029928875, 0.10804772018981312, 0.44519095514985574, 0.44839423150314894, 0.4663102387993311, 0.40134579030154116, 0.3992591464532271, 0.3895168417318529, 0.4643574109422179, 0.47502303298834575, 0.2298762760885052, 0.28433709974188376, 0.006320455089150218, 0.3275415523664463, 0.5100479946254547, 0.4729103626693483]}, {\"categories\": [\"0\", \"1\", \"2\", \"3\", \"4\", \"5\", \"6\", \"7\", \"8\", \"9\", \"10\", \"11\", \"12\", \"13\", \"14\", \"15\", \"16\", \"17\", \"18\", \"19\", \"20\", \"21\", \"22\", \"23\"], \"mode\": \"lines\", \"name\": \"matthews_correlation_max\", \"stepped\": true, \"type\": \"scatter\", \"data\": [0.4246377532584085, 0.4736437134256053, 0.4736437134256053, 0.4736437134256053, 0.4847111883220173, 0.4847111883220173, 0.4847111883220173, 0.4847111883220173, 0.4847111883220173, 0.4847111883220173, 0.4847111883220173, 0.4847111883220173, 0.4847111883220173, 0.4847111883220173, 0.4847111883220173, 0.4847111883220173, 0.4847111883220173, 0.4847111883220173, 0.4847111883220173, 0.4847111883220173, 0.4847111883220173, 0.4847111883220173, 0.5100479946254547, 0.5100479946254547]}], \"log_loss\": [{\"categories\": [\"0\", \"1\", \"2\", \"3\", \"4\", \"5\", \"6\", \"7\", \"8\", \"9\", \"10\", \"11\", \"12\", \"13\", \"14\", \"15\", \"16\", \"17\", \"18\", \"19\", \"20\", \"21\", \"22\", \"23\"], \"mode\": \"markers\", \"name\": \"log_loss\", \"stepped\": false, \"type\": \"scatter\", \"data\": [0.62702930996628, 0.48040462908306597, 0.49179318242476794, 0.5221695531807115, 0.5077786496768886, 0.5638798501678544, 0.5429842329358994, 0.554407651698379, 0.5815167335513968, 0.6129305394703799, 0.4868124552739294, 0.49236246898780045, 0.5024973198891478, 0.5335102220011276, 0.5170969785506008, 0.5283368081352527, 0.47923121658083645, 0.4893522761594216, 0.5913597754508959, 0.5942228549602223, 0.6094757507440456, 0.5503065489617353, 0.4805423157349399, 0.4782779171793684]}, {\"categories\": [\"0\", \"1\", \"2\", \"3\", \"4\", \"5\", \"6\", \"7\", \"8\", \"9\", \"10\", \"11\", \"12\", \"13\", \"14\", \"15\", \"16\", \"17\", \"18\", \"19\", \"20\", \"21\", \"22\", \"23\"], \"mode\": \"lines\", \"name\": \"log_loss_min\", \"stepped\": true, \"type\": \"scatter\", \"data\": [0.62702930996628, 0.48040462908306597, 0.48040462908306597, 0.48040462908306597, 0.48040462908306597, 0.48040462908306597, 0.48040462908306597, 0.48040462908306597, 0.48040462908306597, 0.48040462908306597, 0.48040462908306597, 0.48040462908306597, 0.48040462908306597, 0.48040462908306597, 0.48040462908306597, 0.48040462908306597, 0.47923121658083645, 0.47923121658083645, 0.47923121658083645, 0.47923121658083645, 0.47923121658083645, 0.47923121658083645, 0.47923121658083645, 0.4782779171793684]}], \"recall_score_weighted\": [{\"categories\": [\"0\", \"1\", \"2\", \"3\", \"4\", \"5\", \"6\", \"7\", \"8\", \"9\", \"10\", \"11\", \"12\", \"13\", \"14\", \"15\", \"16\", \"17\", \"18\", \"19\", \"20\", \"21\", \"22\", \"23\"], \"mode\": \"markers\", \"name\": \"recall_score_weighted\", \"stepped\": false, \"type\": \"scatter\", \"data\": [0.7435277141159494, 0.7656395891690009, 0.7552160258042611, 0.757915287327052, 0.7578049401578812, 0.7344113402936931, 0.718860877684407, 0.7110262286732875, 0.704532722179781, 0.6484678719972838, 0.7591630591630592, 0.763059163059163, 0.7682624564977505, 0.7435362023597317, 0.7474068415244887, 0.7409472880061115, 0.765690518631695, 0.7708938120702825, 0.6758509464391818, 0.6940752058399118, 0.645912910618793, 0.7071131482896189, 0.787810881928529, 0.7721925133689839]}, {\"categories\": [\"0\", \"1\", \"2\", \"3\", \"4\", \"5\", \"6\", \"7\", \"8\", \"9\", \"10\", \"11\", \"12\", \"13\", \"14\", \"15\", \"16\", \"17\", \"18\", \"19\", \"20\", \"21\", \"22\", \"23\"], \"mode\": \"lines\", \"name\": \"recall_score_weighted_max\", \"stepped\": true, \"type\": \"scatter\", \"data\": [0.7435277141159494, 0.7656395891690009, 0.7656395891690009, 0.7656395891690009, 0.7656395891690009, 0.7656395891690009, 0.7656395891690009, 0.7656395891690009, 0.7656395891690009, 0.7656395891690009, 0.7656395891690009, 0.7656395891690009, 0.7682624564977505, 0.7682624564977505, 0.7682624564977505, 0.7682624564977505, 0.7682624564977505, 0.7708938120702825, 0.7708938120702825, 0.7708938120702825, 0.7708938120702825, 0.7708938120702825, 0.787810881928529, 0.787810881928529]}], \"AUC_micro\": [{\"categories\": [\"0\", \"1\", \"2\", \"3\", \"4\", \"5\", \"6\", \"7\", \"8\", \"9\", \"10\", \"11\", \"12\", \"13\", \"14\", \"15\", \"16\", \"17\", \"18\", \"19\", \"20\", \"21\", \"22\", \"23\"], \"mode\": \"markers\", \"name\": \"AUC_micro\", \"stepped\": false, \"type\": \"scatter\", \"data\": [0.8308010717565983, 0.8534052480172104, 0.8479789326559051, 0.82910709144026, 0.8348699587146837, 0.8112459006181201, 0.8008986208502378, 0.7864944562603305, 0.7854547487083925, 0.7397627788399069, 0.848043411174225, 0.8468144145610854, 0.8369851518273453, 0.8221012944690651, 0.8378389156126989, 0.826554703337609, 0.8525468931878555, 0.8460339777892468, 0.7466221721588038, 0.7615031820899194, 0.7391929486463557, 0.7930039719663592, 0.8532829534701941, 0.859054196950211]}, {\"categories\": [\"0\", \"1\", \"2\", \"3\", \"4\", \"5\", \"6\", \"7\", \"8\", \"9\", \"10\", \"11\", \"12\", \"13\", \"14\", \"15\", \"16\", \"17\", \"18\", \"19\", \"20\", \"21\", \"22\", \"23\"], \"mode\": \"lines\", \"name\": \"AUC_micro_max\", \"stepped\": true, \"type\": \"scatter\", \"data\": [0.8308010717565983, 0.8534052480172104, 0.8534052480172104, 0.8534052480172104, 0.8534052480172104, 0.8534052480172104, 0.8534052480172104, 0.8534052480172104, 0.8534052480172104, 0.8534052480172104, 0.8534052480172104, 0.8534052480172104, 0.8534052480172104, 0.8534052480172104, 0.8534052480172104, 0.8534052480172104, 0.8534052480172104, 0.8534052480172104, 0.8534052480172104, 0.8534052480172104, 0.8534052480172104, 0.8534052480172104, 0.8534052480172104, 0.859054196950211]}], \"balanced_accuracy\": [{\"categories\": [\"0\", \"1\", \"2\", \"3\", \"4\", \"5\", \"6\", \"7\", \"8\", \"9\", \"10\", \"11\", \"12\", \"13\", \"14\", \"15\", \"16\", \"17\", \"18\", \"19\", \"20\", \"21\", \"22\", \"23\"], \"mode\": \"markers\", \"name\": \"balanced_accuracy\", \"stepped\": false, \"type\": \"scatter\", \"data\": [0.7104731774264245, 0.7333555620308326, 0.6942737992406698, 0.6878136921624116, 0.7504167940686487, 0.7280468833994043, 0.6659595592025392, 0.6515131463515089, 0.6511193839341229, 0.5438204909451553, 0.7102595882623599, 0.703195715497901, 0.7131587060949854, 0.6591557391646801, 0.669449533468897, 0.6510264843251516, 0.7211326428497324, 0.721305639058395, 0.5985315417260876, 0.625987222207271, 0.5018077803203662, 0.6528894535180205, 0.7351453929387143, 0.7194728162109574]}, {\"categories\": [\"0\", \"1\", \"2\", \"3\", \"4\", \"5\", \"6\", \"7\", \"8\", \"9\", \"10\", \"11\", \"12\", \"13\", \"14\", \"15\", \"16\", \"17\", \"18\", \"19\", \"20\", \"21\", \"22\", \"23\"], \"mode\": \"lines\", \"name\": \"balanced_accuracy_max\", \"stepped\": true, \"type\": \"scatter\", \"data\": [0.7104731774264245, 0.7333555620308326, 0.7333555620308326, 0.7333555620308326, 0.7504167940686487, 0.7504167940686487, 0.7504167940686487, 0.7504167940686487, 0.7504167940686487, 0.7504167940686487, 0.7504167940686487, 0.7504167940686487, 0.7504167940686487, 0.7504167940686487, 0.7504167940686487, 0.7504167940686487, 0.7504167940686487, 0.7504167940686487, 0.7504167940686487, 0.7504167940686487, 0.7504167940686487, 0.7504167940686487, 0.7504167940686487, 0.7504167940686487]}], \"precision_score_micro\": [{\"categories\": [\"0\", \"1\", \"2\", \"3\", \"4\", \"5\", \"6\", \"7\", \"8\", \"9\", \"10\", \"11\", \"12\", \"13\", \"14\", \"15\", \"16\", \"17\", \"18\", \"19\", \"20\", \"21\", \"22\", \"23\"], \"mode\": \"markers\", \"name\": \"precision_score_micro\", \"stepped\": false, \"type\": \"scatter\", \"data\": [0.7435277141159494, 0.7656395891690009, 0.7552160258042611, 0.757915287327052, 0.7578049401578812, 0.7344113402936931, 0.718860877684407, 0.7110262286732875, 0.704532722179781, 0.6484678719972838, 0.7591630591630592, 0.763059163059163, 0.7682624564977505, 0.7435362023597317, 0.7474068415244887, 0.7409472880061115, 0.765690518631695, 0.7708938120702825, 0.6758509464391818, 0.6940752058399118, 0.645912910618793, 0.7071131482896189, 0.787810881928529, 0.7721925133689839]}, {\"categories\": [\"0\", \"1\", \"2\", \"3\", \"4\", \"5\", \"6\", \"7\", \"8\", \"9\", \"10\", \"11\", \"12\", \"13\", \"14\", \"15\", \"16\", \"17\", \"18\", \"19\", \"20\", \"21\", \"22\", \"23\"], \"mode\": \"lines\", \"name\": \"precision_score_micro_max\", \"stepped\": true, \"type\": \"scatter\", \"data\": [0.7435277141159494, 0.7656395891690009, 0.7656395891690009, 0.7656395891690009, 0.7656395891690009, 0.7656395891690009, 0.7656395891690009, 0.7656395891690009, 0.7656395891690009, 0.7656395891690009, 0.7656395891690009, 0.7656395891690009, 0.7682624564977505, 0.7682624564977505, 0.7682624564977505, 0.7682624564977505, 0.7682624564977505, 0.7708938120702825, 0.7708938120702825, 0.7708938120702825, 0.7708938120702825, 0.7708938120702825, 0.787810881928529, 0.787810881928529]}], \"f1_score_macro\": [{\"categories\": [\"0\", \"1\", \"2\", \"3\", \"4\", \"5\", \"6\", \"7\", \"8\", \"9\", \"10\", \"11\", \"12\", \"13\", \"14\", \"15\", \"16\", \"17\", \"18\", \"19\", \"20\", \"21\", \"22\", \"23\"], \"mode\": \"markers\", \"name\": \"f1_score_macro\", \"stepped\": false, \"type\": \"scatter\", \"data\": [0.7110567297826602, 0.7345738794182582, 0.7028600643033036, 0.6991859948178718, 0.7389105503981175, 0.715836284847893, 0.6695423199560285, 0.6557501423243692, 0.6549949367736009, 0.4955795022259055, 0.7178201765178542, 0.7120485993997614, 0.7222107295619971, 0.6649309813267749, 0.6773310328489138, 0.6541401691799467, 0.7270794945014348, 0.7297768568557624, 0.5974676748715888, 0.6284446024489676, 0.4042123626288098, 0.6564631225232233, 0.7461635802185229, 0.7281432108251296]}, {\"categories\": [\"0\", \"1\", \"2\", \"3\", \"4\", \"5\", \"6\", \"7\", \"8\", \"9\", \"10\", \"11\", \"12\", \"13\", \"14\", \"15\", \"16\", \"17\", \"18\", \"19\", \"20\", \"21\", \"22\", \"23\"], \"mode\": \"lines\", \"name\": \"f1_score_macro_max\", \"stepped\": true, \"type\": \"scatter\", \"data\": [0.7110567297826602, 0.7345738794182582, 0.7345738794182582, 0.7345738794182582, 0.7389105503981175, 0.7389105503981175, 0.7389105503981175, 0.7389105503981175, 0.7389105503981175, 0.7389105503981175, 0.7389105503981175, 0.7389105503981175, 0.7389105503981175, 0.7389105503981175, 0.7389105503981175, 0.7389105503981175, 0.7389105503981175, 0.7389105503981175, 0.7389105503981175, 0.7389105503981175, 0.7389105503981175, 0.7389105503981175, 0.7461635802185229, 0.7461635802185229]}], \"AUC_macro\": [{\"categories\": [\"0\", \"1\", \"2\", \"3\", \"4\", \"5\", \"6\", \"7\", \"8\", \"9\", \"10\", \"11\", \"12\", \"13\", \"14\", \"15\", \"16\", \"17\", \"18\", \"19\", \"20\", \"21\", \"22\", \"23\"], \"mode\": \"markers\", \"name\": \"AUC_macro\", \"stepped\": false, \"type\": \"scatter\", \"data\": [0.8062007971845107, 0.8324149004567104, 0.8299040708373979, 0.8152926943595519, 0.8257147917008405, 0.8084409124497872, 0.7660757757340357, 0.750158214052964, 0.7428467468941343, 0.6971397124948764, 0.8271835130820969, 0.8327850989855212, 0.8094998643247484, 0.8203456798763714, 0.8293667821011453, 0.8254411998706679, 0.8353983570196322, 0.8209160591145439, 0.6970107504920684, 0.7119202261360748, 0.6960498747627131, 0.7592840911137098, 0.834385233677083, 0.8420835907072428]}, {\"categories\": [\"0\", \"1\", \"2\", \"3\", \"4\", \"5\", \"6\", \"7\", \"8\", \"9\", \"10\", \"11\", \"12\", \"13\", \"14\", \"15\", \"16\", \"17\", \"18\", \"19\", \"20\", \"21\", \"22\", \"23\"], \"mode\": \"lines\", \"name\": \"AUC_macro_max\", \"stepped\": true, \"type\": \"scatter\", \"data\": [0.8062007971845107, 0.8324149004567104, 0.8324149004567104, 0.8324149004567104, 0.8324149004567104, 0.8324149004567104, 0.8324149004567104, 0.8324149004567104, 0.8324149004567104, 0.8324149004567104, 0.8324149004567104, 0.8327850989855212, 0.8327850989855212, 0.8327850989855212, 0.8327850989855212, 0.8327850989855212, 0.8353983570196322, 0.8353983570196322, 0.8353983570196322, 0.8353983570196322, 0.8353983570196322, 0.8353983570196322, 0.8353983570196322, 0.8420835907072428]}], \"accuracy\": [{\"categories\": [\"0\", \"1\", \"2\", \"3\", \"4\", \"5\", \"6\", \"7\", \"8\", \"9\", \"10\", \"11\", \"12\", \"13\", \"14\", \"15\", \"16\", \"17\", \"18\", \"19\", \"20\", \"21\", \"22\", \"23\"], \"mode\": \"markers\", \"name\": \"accuracy\", \"stepped\": false, \"type\": \"scatter\", \"data\": [0.7435277141159494, 0.7656395891690009, 0.7552160258042611, 0.757915287327052, 0.7578049401578812, 0.7344113402936931, 0.718860877684407, 0.7110262286732875, 0.704532722179781, 0.6484678719972838, 0.7591630591630592, 0.763059163059163, 0.7682624564977505, 0.7435362023597317, 0.7474068415244887, 0.7409472880061115, 0.765690518631695, 0.7708938120702825, 0.6758509464391818, 0.6940752058399118, 0.645912910618793, 0.7071131482896189, 0.787810881928529, 0.7721925133689839]}, {\"categories\": [\"0\", \"1\", \"2\", \"3\", \"4\", \"5\", \"6\", \"7\", \"8\", \"9\", \"10\", \"11\", \"12\", \"13\", \"14\", \"15\", \"16\", \"17\", \"18\", \"19\", \"20\", \"21\", \"22\", \"23\"], \"mode\": \"lines\", \"name\": \"accuracy_max\", \"stepped\": true, \"type\": \"scatter\", \"data\": [0.7435277141159494, 0.7656395891690009, 0.7656395891690009, 0.7656395891690009, 0.7656395891690009, 0.7656395891690009, 0.7656395891690009, 0.7656395891690009, 0.7656395891690009, 0.7656395891690009, 0.7656395891690009, 0.7656395891690009, 0.7682624564977505, 0.7682624564977505, 0.7682624564977505, 0.7682624564977505, 0.7682624564977505, 0.7708938120702825, 0.7708938120702825, 0.7708938120702825, 0.7708938120702825, 0.7708938120702825, 0.787810881928529, 0.787810881928529]}], \"norm_macro_recall\": [{\"categories\": [\"0\", \"1\", \"2\", \"3\", \"4\", \"5\", \"6\", \"7\", \"8\", \"9\", \"10\", \"11\", \"12\", \"13\", \"14\", \"15\", \"16\", \"17\", \"18\", \"19\", \"20\", \"21\", \"22\", \"23\"], \"mode\": \"markers\", \"name\": \"norm_macro_recall\", \"stepped\": false, \"type\": \"scatter\", \"data\": [0.420946354852849, 0.4667111240616652, 0.3885475984813397, 0.3756273843248232, 0.5008335881372973, 0.45609376679880853, 0.33191911840507854, 0.3030262927030176, 0.30223876786824594, 0.08972431522364399, 0.4205191765247198, 0.40639143099580205, 0.4263174121899708, 0.31831147832936013, 0.33889906693779404, 0.3020529686503032, 0.4422652856994649, 0.44261127811679, 0.19706308345217516, 0.251974444414542, 0.0036155606407322514, 0.30577890703604116, 0.4702907858774285, 0.43894563242191464]}, {\"categories\": [\"0\", \"1\", \"2\", \"3\", \"4\", \"5\", \"6\", \"7\", \"8\", \"9\", \"10\", \"11\", \"12\", \"13\", \"14\", \"15\", \"16\", \"17\", \"18\", \"19\", \"20\", \"21\", \"22\", \"23\"], \"mode\": \"lines\", \"name\": \"norm_macro_recall_max\", \"stepped\": true, \"type\": \"scatter\", \"data\": [0.420946354852849, 0.4667111240616652, 0.4667111240616652, 0.4667111240616652, 0.5008335881372973, 0.5008335881372973, 0.5008335881372973, 0.5008335881372973, 0.5008335881372973, 0.5008335881372973, 0.5008335881372973, 0.5008335881372973, 0.5008335881372973, 0.5008335881372973, 0.5008335881372973, 0.5008335881372973, 0.5008335881372973, 0.5008335881372973, 0.5008335881372973, 0.5008335881372973, 0.5008335881372973, 0.5008335881372973, 0.5008335881372973, 0.5008335881372973]}], \"f1_score_micro\": [{\"categories\": [\"0\", \"1\", \"2\", \"3\", \"4\", \"5\", \"6\", \"7\", \"8\", \"9\", \"10\", \"11\", \"12\", \"13\", \"14\", \"15\", \"16\", \"17\", \"18\", \"19\", \"20\", \"21\", \"22\", \"23\"], \"mode\": \"markers\", \"name\": \"f1_score_micro\", \"stepped\": false, \"type\": \"scatter\", \"data\": [0.7435277141159494, 0.7656395891690009, 0.7552160258042611, 0.757915287327052, 0.7578049401578812, 0.7344113402936931, 0.718860877684407, 0.7110262286732875, 0.704532722179781, 0.6484678719972838, 0.7591630591630592, 0.763059163059163, 0.7682624564977505, 0.7435362023597317, 0.7474068415244886, 0.7409472880061114, 0.7656905186316949, 0.7708938120702825, 0.6758509464391818, 0.6940752058399118, 0.645912910618793, 0.7071131482896188, 0.787810881928529, 0.7721925133689839]}, {\"categories\": [\"0\", \"1\", \"2\", \"3\", \"4\", \"5\", \"6\", \"7\", \"8\", \"9\", \"10\", \"11\", \"12\", \"13\", \"14\", \"15\", \"16\", \"17\", \"18\", \"19\", \"20\", \"21\", \"22\", \"23\"], \"mode\": \"lines\", \"name\": \"f1_score_micro_max\", \"stepped\": true, \"type\": \"scatter\", \"data\": [0.7435277141159494, 0.7656395891690009, 0.7656395891690009, 0.7656395891690009, 0.7656395891690009, 0.7656395891690009, 0.7656395891690009, 0.7656395891690009, 0.7656395891690009, 0.7656395891690009, 0.7656395891690009, 0.7656395891690009, 0.7682624564977505, 0.7682624564977505, 0.7682624564977505, 0.7682624564977505, 0.7682624564977505, 0.7708938120702825, 0.7708938120702825, 0.7708938120702825, 0.7708938120702825, 0.7708938120702825, 0.787810881928529, 0.787810881928529]}], \"average_precision_score_macro\": [{\"categories\": [\"0\", \"1\", \"2\", \"3\", \"4\", \"5\", \"6\", \"7\", \"8\", \"9\", \"10\", \"11\", \"12\", \"13\", \"14\", \"15\", \"16\", \"17\", \"18\", \"19\", \"20\", \"21\", \"22\", \"23\"], \"mode\": \"markers\", \"name\": \"average_precision_score_macro\", \"stepped\": false, \"type\": \"scatter\", \"data\": [0.7848257443237637, 0.8102231075585553, 0.8094742670932391, 0.7911346312839334, 0.8010472403492163, 0.783260862319714, 0.7543822265332896, 0.7317267872368305, 0.7242857680378055, 0.657615829876303, 0.8048545898755337, 0.8097193338905573, 0.7929030653872227, 0.8017904056440933, 0.8055460327710318, 0.8052552710821775, 0.8135316963093115, 0.805625945002987, 0.6729409421472916, 0.6973739442267882, 0.6727667271447858, 0.7417570101211044, 0.8136057681069753, 0.8216251292472144]}, {\"categories\": [\"0\", \"1\", \"2\", \"3\", \"4\", \"5\", \"6\", \"7\", \"8\", \"9\", \"10\", \"11\", \"12\", \"13\", \"14\", \"15\", \"16\", \"17\", \"18\", \"19\", \"20\", \"21\", \"22\", \"23\"], \"mode\": \"lines\", \"name\": \"average_precision_score_macro_max\", \"stepped\": true, \"type\": \"scatter\", \"data\": [0.7848257443237637, 0.8102231075585553, 0.8102231075585553, 0.8102231075585553, 0.8102231075585553, 0.8102231075585553, 0.8102231075585553, 0.8102231075585553, 0.8102231075585553, 0.8102231075585553, 0.8102231075585553, 0.8102231075585553, 0.8102231075585553, 0.8102231075585553, 0.8102231075585553, 0.8102231075585553, 0.8135316963093115, 0.8135316963093115, 0.8135316963093115, 0.8135316963093115, 0.8135316963093115, 0.8135316963093115, 0.8136057681069753, 0.8216251292472144]}], \"precision_score_weighted\": [{\"categories\": [\"0\", \"1\", \"2\", \"3\", \"4\", \"5\", \"6\", \"7\", \"8\", \"9\", \"10\", \"11\", \"12\", \"13\", \"14\", \"15\", \"16\", \"17\", \"18\", \"19\", \"20\", \"21\", \"22\", \"23\"], \"mode\": \"markers\", \"name\": \"precision_score_weighted\", \"stepped\": false, \"type\": \"scatter\", \"data\": [0.7422913189086859, 0.7669645066030578, 0.7506970715205674, 0.7588557134407312, 0.7725157874466322, 0.7503050416926442, 0.7115161895977773, 0.7024304162613891, 0.6966268353120794, 0.5918911276357762, 0.7540709814307173, 0.7613913363888918, 0.7686820578442385, 0.7548116206220582, 0.7462394955403763, 0.7536152165050535, 0.763140791409396, 0.7708715069321304, 0.6619696053850144, 0.6852304906797901, 0.44199480707232475, 0.7009572063769351, 0.7871495358175469, 0.7697863311211298]}, {\"categories\": [\"0\", \"1\", \"2\", \"3\", \"4\", \"5\", \"6\", \"7\", \"8\", \"9\", \"10\", \"11\", \"12\", \"13\", \"14\", \"15\", \"16\", \"17\", \"18\", \"19\", \"20\", \"21\", \"22\", \"23\"], \"mode\": \"lines\", \"name\": \"precision_score_weighted_max\", \"stepped\": true, \"type\": \"scatter\", \"data\": [0.7422913189086859, 0.7669645066030578, 0.7669645066030578, 0.7669645066030578, 0.7725157874466322, 0.7725157874466322, 0.7725157874466322, 0.7725157874466322, 0.7725157874466322, 0.7725157874466322, 0.7725157874466322, 0.7725157874466322, 0.7725157874466322, 0.7725157874466322, 0.7725157874466322, 0.7725157874466322, 0.7725157874466322, 0.7725157874466322, 0.7725157874466322, 0.7725157874466322, 0.7725157874466322, 0.7725157874466322, 0.7871495358175469, 0.7871495358175469]}], \"precision_score_macro\": [{\"categories\": [\"0\", \"1\", \"2\", \"3\", \"4\", \"5\", \"6\", \"7\", \"8\", \"9\", \"10\", \"11\", \"12\", \"13\", \"14\", \"15\", \"16\", \"17\", \"18\", \"19\", \"20\", \"21\", \"22\", \"23\"], \"mode\": \"markers\", \"name\": \"precision_score_macro\", \"stepped\": false, \"type\": \"scatter\", \"data\": [0.7143475727069413, 0.7406688342517045, 0.7350191419579297, 0.7567636234715553, 0.7347144737803789, 0.7118339385697263, 0.6888042471539706, 0.6796406069772238, 0.6702000007192261, 0.5497013636174286, 0.7357191642307356, 0.7478419740675006, 0.7555216454114074, 0.7536413838792811, 0.7357082751165097, 0.7524575540231203, 0.7441100788888677, 0.7554232524140823, 0.634682775104627, 0.6610928792093486, 0.35593191122602885, 0.6758406629066158, 0.7767529003830413, 0.7552506361530852]}, {\"categories\": [\"0\", \"1\", \"2\", \"3\", \"4\", \"5\", \"6\", \"7\", \"8\", \"9\", \"10\", \"11\", \"12\", \"13\", \"14\", \"15\", \"16\", \"17\", \"18\", \"19\", \"20\", \"21\", \"22\", \"23\"], \"mode\": \"lines\", \"name\": \"precision_score_macro_max\", \"stepped\": true, \"type\": \"scatter\", \"data\": [0.7143475727069413, 0.7406688342517045, 0.7406688342517045, 0.7567636234715553, 0.7567636234715553, 0.7567636234715553, 0.7567636234715553, 0.7567636234715553, 0.7567636234715553, 0.7567636234715553, 0.7567636234715553, 0.7567636234715553, 0.7567636234715553, 0.7567636234715553, 0.7567636234715553, 0.7567636234715553, 0.7567636234715553, 0.7567636234715553, 0.7567636234715553, 0.7567636234715553, 0.7567636234715553, 0.7567636234715553, 0.7767529003830413, 0.7767529003830413]}], \"f1_score_weighted\": [{\"categories\": [\"0\", \"1\", \"2\", \"3\", \"4\", \"5\", \"6\", \"7\", \"8\", \"9\", \"10\", \"11\", \"12\", \"13\", \"14\", \"15\", \"16\", \"17\", \"18\", \"19\", \"20\", \"21\", \"22\", \"23\"], \"mode\": \"markers\", \"name\": \"f1_score_weighted\", \"stepped\": false, \"type\": \"scatter\", \"data\": [0.7417695202219394, 0.7642691151373454, 0.7431965302626267, 0.7398489179386143, 0.7621754267343511, 0.7390422418568828, 0.7084351228263952, 0.6983345257108604, 0.695684379849759, 0.57560877087662, 0.7522115957037848, 0.7509145535921814, 0.7581895994889724, 0.7153979851534457, 0.7263033197713257, 0.7088825852467542, 0.7596671335828268, 0.7636281956902014, 0.6527275702816946, 0.6769108132918986, 0.5177110215005623, 0.6972261276432847, 0.7792506631493782, 0.7633003441849991]}, {\"categories\": [\"0\", \"1\", \"2\", \"3\", \"4\", \"5\", \"6\", \"7\", \"8\", \"9\", \"10\", \"11\", \"12\", \"13\", \"14\", \"15\", \"16\", \"17\", \"18\", \"19\", \"20\", \"21\", \"22\", \"23\"], \"mode\": \"lines\", \"name\": \"f1_score_weighted_max\", \"stepped\": true, \"type\": \"scatter\", \"data\": [0.7417695202219394, 0.7642691151373454, 0.7642691151373454, 0.7642691151373454, 0.7642691151373454, 0.7642691151373454, 0.7642691151373454, 0.7642691151373454, 0.7642691151373454, 0.7642691151373454, 0.7642691151373454, 0.7642691151373454, 0.7642691151373454, 0.7642691151373454, 0.7642691151373454, 0.7642691151373454, 0.7642691151373454, 0.7642691151373454, 0.7642691151373454, 0.7642691151373454, 0.7642691151373454, 0.7642691151373454, 0.7792506631493782, 0.7792506631493782]}], \"AUC_weighted\": [{\"categories\": [\"0\", \"1\", \"2\", \"3\", \"4\", \"5\", \"6\", \"7\", \"8\", \"9\", \"10\", \"11\", \"12\", \"13\", \"14\", \"15\", \"16\", \"17\", \"18\", \"19\", \"20\", \"21\", \"22\", \"23\"], \"mode\": \"markers\", \"name\": \"AUC_weighted\", \"stepped\": false, \"type\": \"scatter\", \"data\": [0.8062007971845107, 0.8324149004567104, 0.8299040708373979, 0.8152926943595518, 0.8257147917008407, 0.8084409124497872, 0.7660757757340357, 0.750158214052964, 0.7428467468941343, 0.6971397124948764, 0.8271835130820969, 0.8327850989855212, 0.8094998643247486, 0.8203456798763714, 0.8293667821011453, 0.8254411998706679, 0.8353983570196322, 0.8209160591145439, 0.6970107504920684, 0.7119202261360748, 0.6960498747627131, 0.7592840911137098, 0.8343852336770828, 0.8420835907072428]}, {\"categories\": [\"0\", \"1\", \"2\", \"3\", \"4\", \"5\", \"6\", \"7\", \"8\", \"9\", \"10\", \"11\", \"12\", \"13\", \"14\", \"15\", \"16\", \"17\", \"18\", \"19\", \"20\", \"21\", \"22\", \"23\"], \"mode\": \"lines\", \"name\": \"AUC_weighted_max\", \"stepped\": true, \"type\": \"scatter\", \"data\": [0.8062007971845107, 0.8324149004567104, 0.8324149004567104, 0.8324149004567104, 0.8324149004567104, 0.8324149004567104, 0.8324149004567104, 0.8324149004567104, 0.8324149004567104, 0.8324149004567104, 0.8324149004567104, 0.8327850989855212, 0.8327850989855212, 0.8327850989855212, 0.8327850989855212, 0.8327850989855212, 0.8353983570196322, 0.8353983570196322, 0.8353983570196322, 0.8353983570196322, 0.8353983570196322, 0.8353983570196322, 0.8353983570196322, 0.8420835907072428]}], \"recall_score_macro\": [{\"categories\": [\"0\", \"1\", \"2\", \"3\", \"4\", \"5\", \"6\", \"7\", \"8\", \"9\", \"10\", \"11\", \"12\", \"13\", \"14\", \"15\", \"16\", \"17\", \"18\", \"19\", \"20\", \"21\", \"22\", \"23\"], \"mode\": \"markers\", \"name\": \"recall_score_macro\", \"stepped\": false, \"type\": \"scatter\", \"data\": [0.7104731774264245, 0.7333555620308326, 0.6942737992406698, 0.6878136921624116, 0.7504167940686487, 0.7280468833994043, 0.6659595592025392, 0.6515131463515089, 0.6511193839341229, 0.5438204909451553, 0.7102595882623599, 0.703195715497901, 0.7131587060949854, 0.6591557391646801, 0.669449533468897, 0.6510264843251516, 0.7211326428497324, 0.721305639058395, 0.5985315417260876, 0.625987222207271, 0.5018077803203662, 0.6528894535180205, 0.7351453929387143, 0.7194728162109574]}, {\"categories\": [\"0\", \"1\", \"2\", \"3\", \"4\", \"5\", \"6\", \"7\", \"8\", \"9\", \"10\", \"11\", \"12\", \"13\", \"14\", \"15\", \"16\", \"17\", \"18\", \"19\", \"20\", \"21\", \"22\", \"23\"], \"mode\": \"lines\", \"name\": \"recall_score_macro_max\", \"stepped\": true, \"type\": \"scatter\", \"data\": [0.7104731774264245, 0.7333555620308326, 0.7333555620308326, 0.7333555620308326, 0.7504167940686487, 0.7504167940686487, 0.7504167940686487, 0.7504167940686487, 0.7504167940686487, 0.7504167940686487, 0.7504167940686487, 0.7504167940686487, 0.7504167940686487, 0.7504167940686487, 0.7504167940686487, 0.7504167940686487, 0.7504167940686487, 0.7504167940686487, 0.7504167940686487, 0.7504167940686487, 0.7504167940686487, 0.7504167940686487, 0.7504167940686487, 0.7504167940686487]}], \"average_precision_score_weighted\": [{\"categories\": [\"0\", \"1\", \"2\", \"3\", \"4\", \"5\", \"6\", \"7\", \"8\", \"9\", \"10\", \"11\", \"12\", \"13\", \"14\", \"15\", \"16\", \"17\", \"18\", \"19\", \"20\", \"21\", \"22\", \"23\"], \"mode\": \"markers\", \"name\": \"average_precision_score_weighted\", \"stepped\": false, \"type\": \"scatter\", \"data\": [0.8183229088104544, 0.8410481501195661, 0.8407346033639111, 0.823996053532271, 0.8335860956516743, 0.8176688661561962, 0.7880625636552105, 0.767257478177501, 0.7570791904749641, 0.7026049990417864, 0.834441152517494, 0.8411229308148261, 0.8219111507187822, 0.8341398506025504, 0.8390655714193421, 0.8375111188302915, 0.8438213707654096, 0.8337738527698004, 0.7171240765757025, 0.7342847071476772, 0.7211305783510233, 0.7779436814219676, 0.8429799420241949, 0.8507552577717605]}, {\"categories\": [\"0\", \"1\", \"2\", \"3\", \"4\", \"5\", \"6\", \"7\", \"8\", \"9\", \"10\", \"11\", \"12\", \"13\", \"14\", \"15\", \"16\", \"17\", \"18\", \"19\", \"20\", \"21\", \"22\", \"23\"], \"mode\": \"lines\", \"name\": \"average_precision_score_weighted_max\", \"stepped\": true, \"type\": \"scatter\", \"data\": [0.8183229088104544, 0.8410481501195661, 0.8410481501195661, 0.8410481501195661, 0.8410481501195661, 0.8410481501195661, 0.8410481501195661, 0.8410481501195661, 0.8410481501195661, 0.8410481501195661, 0.8410481501195661, 0.8411229308148261, 0.8411229308148261, 0.8411229308148261, 0.8411229308148261, 0.8411229308148261, 0.8438213707654096, 0.8438213707654096, 0.8438213707654096, 0.8438213707654096, 0.8438213707654096, 0.8438213707654096, 0.8438213707654096, 0.8507552577717605]}]}, \"metricName\": null, \"primaryMetricName\": \"accuracy\", \"showLegend\": false}, \"run_metrics\": [{\"name\": \"experiment_status\", \"run_id\": \"AutoML_01843660-d936-4a03-a31a-ece32909196e\", \"categories\": [0, 1, 2, 3, 4, 5, 6, 7, 8, 9, 10, 11, 12, 13], \"series\": [{\"data\": [\"DatasetEvaluation\", \"FeaturesGeneration\", \"DatasetFeaturization\", \"DatasetFeaturizationCompleted\", \"DatasetCrossValidationSplit\", \"ModelSelection\", \"BestRunExplainModel\", \"ModelExplanationDataSetSetup\", \"PickSurrogateModel\", \"EngineeredFeatureExplanations\", \"EngineeredFeatureExplanations\", \"RawFeaturesExplanations\", \"RawFeaturesExplanations\", \"BestRunExplainModel\"]}]}, {\"name\": \"experiment_status_description\", \"run_id\": \"AutoML_01843660-d936-4a03-a31a-ece32909196e\", \"categories\": [0, 1, 2, 3, 4, 5, 6, 7, 8, 9, 10, 11, 12, 13], \"series\": [{\"data\": [\"Gathering dataset statistics.\", \"Generating features for the dataset.\", \"Beginning to fit featurizers and featurize the dataset.\", \"Completed fit featurizers and featurizing the dataset.\", \"Generating individually featurized CV splits.\", \"Beginning model selection.\", \"Best run model explanations started\", \"Model explanations data setup completed\", \"Choosing LightGBM as the surrogate model for explanations\", \"Computation of engineered features started\", \"Computation of engineered features completed\", \"Computation of raw features started\", \"Computation of raw features completed\", \"Best run model explanations completed\"]}]}, {\"name\": \"matthews_correlation\", \"run_id\": \"AutoML_01843660-d936-4a03-a31a-ece32909196e\", \"categories\": [0], \"series\": [{\"data\": [0.5100479946254547]}]}, {\"name\": \"precision_score_macro\", \"run_id\": \"AutoML_01843660-d936-4a03-a31a-ece32909196e\", \"categories\": [0], \"series\": [{\"data\": [0.7767529003830413]}]}, {\"name\": \"recall_score_micro\", \"run_id\": \"AutoML_01843660-d936-4a03-a31a-ece32909196e\", \"categories\": [0], \"series\": [{\"data\": [0.787810881928529]}]}, {\"name\": \"f1_score_macro\", \"run_id\": \"AutoML_01843660-d936-4a03-a31a-ece32909196e\", \"categories\": [0], \"series\": [{\"data\": [0.7461635802185229]}]}, {\"name\": \"weighted_accuracy\", \"run_id\": \"AutoML_01843660-d936-4a03-a31a-ece32909196e\", \"categories\": [0], \"series\": [{\"data\": [0.8288071848964478]}]}, {\"name\": \"log_loss\", \"run_id\": \"AutoML_01843660-d936-4a03-a31a-ece32909196e\", \"categories\": [0], \"series\": [{\"data\": [0.4805423157349399]}]}, {\"name\": \"accuracy\", \"run_id\": \"AutoML_01843660-d936-4a03-a31a-ece32909196e\", \"categories\": [0], \"series\": [{\"data\": [0.787810881928529]}]}, {\"name\": \"average_precision_score_weighted\", \"run_id\": \"AutoML_01843660-d936-4a03-a31a-ece32909196e\", \"categories\": [0], \"series\": [{\"data\": [0.8429799420241949]}]}, {\"name\": \"precision_score_weighted\", \"run_id\": \"AutoML_01843660-d936-4a03-a31a-ece32909196e\", \"categories\": [0], \"series\": [{\"data\": [0.7871495358175469]}]}, {\"name\": \"recall_score_macro\", \"run_id\": \"AutoML_01843660-d936-4a03-a31a-ece32909196e\", \"categories\": [0], \"series\": [{\"data\": [0.7351453929387143]}]}, {\"name\": \"AUC_macro\", \"run_id\": \"AutoML_01843660-d936-4a03-a31a-ece32909196e\", \"categories\": [0], \"series\": [{\"data\": [0.834385233677083]}]}, {\"name\": \"recall_score_weighted\", \"run_id\": \"AutoML_01843660-d936-4a03-a31a-ece32909196e\", \"categories\": [0], \"series\": [{\"data\": [0.787810881928529]}]}, {\"name\": \"average_precision_score_macro\", \"run_id\": \"AutoML_01843660-d936-4a03-a31a-ece32909196e\", \"categories\": [0], \"series\": [{\"data\": [0.8136057681069753]}]}, {\"name\": \"average_precision_score_micro\", \"run_id\": \"AutoML_01843660-d936-4a03-a31a-ece32909196e\", \"categories\": [0], \"series\": [{\"data\": [0.8539149421181118]}]}, {\"name\": \"AUC_weighted\", \"run_id\": \"AutoML_01843660-d936-4a03-a31a-ece32909196e\", \"categories\": [0], \"series\": [{\"data\": [0.8343852336770828]}]}, {\"name\": \"f1_score_micro\", \"run_id\": \"AutoML_01843660-d936-4a03-a31a-ece32909196e\", \"categories\": [0], \"series\": [{\"data\": [0.787810881928529]}]}, {\"name\": \"norm_macro_recall\", \"run_id\": \"AutoML_01843660-d936-4a03-a31a-ece32909196e\", \"categories\": [0], \"series\": [{\"data\": [0.4702907858774285]}]}, {\"name\": \"precision_score_micro\", \"run_id\": \"AutoML_01843660-d936-4a03-a31a-ece32909196e\", \"categories\": [0], \"series\": [{\"data\": [0.787810881928529]}]}, {\"name\": \"AUC_micro\", \"run_id\": \"AutoML_01843660-d936-4a03-a31a-ece32909196e\", \"categories\": [0], \"series\": [{\"data\": [0.8532829534701941]}]}, {\"name\": \"f1_score_weighted\", \"run_id\": \"AutoML_01843660-d936-4a03-a31a-ece32909196e\", \"categories\": [0], \"series\": [{\"data\": [0.7792506631493782]}]}, {\"name\": \"balanced_accuracy\", \"run_id\": \"AutoML_01843660-d936-4a03-a31a-ece32909196e\", \"categories\": [0], \"series\": [{\"data\": [0.7351453929387143]}]}], \"run_logs\": \"\\nRun is completed.\", \"graph\": {}, \"widget_settings\": {\"childWidgetDisplay\": \"popup\", \"send_telemetry\": false, \"log_level\": \"INFO\", \"sdk_version\": \"1.20.0\"}, \"loading\": false}"
          },
          "metadata": {}
        }
      ],
      "execution_count": 9,
      "metadata": {
        "gather": {
          "logged": 1613339173784
        },
        "jupyter": {
          "outputs_hidden": false,
          "source_hidden": false
        },
        "nteract": {
          "transient": {
            "deleting": false
          }
        }
      }
    },
    {
      "cell_type": "code",
      "source": [
        "remote_run.wait_for_completion(show_output=True)"
      ],
      "outputs": [
        {
          "output_type": "stream",
          "name": "stdout",
          "text": [
            "\n",
            "\n",
            "****************************************************************************************************\n",
            "DATA GUARDRAILS: \n",
            "\n",
            "TYPE:         Class balancing detection\n",
            "STATUS:       PASSED\n",
            "DESCRIPTION:  Your inputs were analyzed, and all classes are balanced in your training data.\n",
            "              Learn more about imbalanced data: https://aka.ms/AutomatedMLImbalancedData\n",
            "\n",
            "****************************************************************************************************\n",
            "\n",
            "TYPE:         Missing feature values imputation\n",
            "STATUS:       PASSED\n",
            "DESCRIPTION:  No feature missing values were detected in the training data.\n",
            "              Learn more about missing value imputation: https://aka.ms/AutomatedMLFeaturization\n",
            "\n",
            "****************************************************************************************************\n",
            "\n",
            "TYPE:         High cardinality feature detection\n",
            "STATUS:       PASSED\n",
            "DESCRIPTION:  Your inputs were analyzed, and no high cardinality features were detected.\n",
            "              Learn more about high cardinality feature handling: https://aka.ms/AutomatedMLFeaturization\n",
            "\n",
            "****************************************************************************************************\n",
            "\n",
            "****************************************************************************************************\n",
            "ITERATION: The iteration being evaluated.\n",
            "PIPELINE: A summary description of the pipeline being evaluated.\n",
            "DURATION: Time taken for the current iteration.\n",
            "METRIC: The result of computing score on the fitted pipeline.\n",
            "BEST: The best observed score thus far.\n",
            "****************************************************************************************************\n",
            "\n",
            " ITERATION   PIPELINE                                       DURATION      METRIC      BEST\n",
            "         0   MaxAbsScaler LightGBM                          0:01:08       0.7435    0.7435\n",
            "         1   MaxAbsScaler XGBoostClassifier                 0:01:08       0.7656    0.7656\n",
            "         2   MaxAbsScaler RandomForest                      0:01:06       0.7552    0.7656\n",
            "         3   MaxAbsScaler RandomForest                      0:01:06       0.7579    0.7656\n",
            "         4   MaxAbsScaler RandomForest                      0:01:12       0.7578    0.7656\n",
            "         5   MaxAbsScaler RandomForest                      0:01:04       0.7344    0.7656\n",
            "         6   SparseNormalizer XGBoostClassifier             0:01:07       0.7189    0.7656\n",
            "         7   SparseNormalizer XGBoostClassifier             0:01:10       0.7110    0.7656\n",
            "        10   MaxAbsScaler RandomForest                      0:01:04       0.7592    0.7656\n",
            "        11   StandardScalerWrapper RandomForest             0:01:05       0.7631    0.7656\n",
            "         8   SparseNormalizer XGBoostClassifier             0:01:11       0.7045    0.7656\n",
            "         9   SparseNormalizer XGBoostClassifier             0:01:10       0.6485    0.7656\n",
            "        12   MaxAbsScaler LogisticRegression                0:01:17       0.7683    0.7683\n",
            "        13   MaxAbsScaler ExtremeRandomTrees                0:01:14       0.7435    0.7683\n",
            "        14   MaxAbsScaler LightGBM                          0:01:07       0.7474    0.7683\n",
            "        15   MaxAbsScaler LightGBM                          0:01:09       0.7409    0.7683\n",
            "        16   MaxAbsScaler LightGBM                          0:01:06       0.7657    0.7683\n",
            "        17   MaxAbsScaler LogisticRegression                0:01:08       0.7709    0.7709\n",
            "        18   SparseNormalizer LightGBM                      0:01:07       0.6759    0.7709\n",
            "        19   SparseNormalizer XGBoostClassifier             0:01:08       0.6941    0.7709\n",
            "        20   SparseNormalizer LightGBM                      0:01:10       0.6459    0.7709\n",
            "        21   SparseNormalizer XGBoostClassifier             0:01:01       0.7071    0.7709\n",
            "        22    VotingEnsemble                                0:01:33       0.7878    0.7878\n",
            "        23    StackEnsemble                                 0:01:30       0.7722    0.7878\n"
          ]
        },
        {
          "output_type": "execute_result",
          "execution_count": 14,
          "data": {
            "text/plain": "{'runId': 'AutoML_01843660-d936-4a03-a31a-ece32909196e',\n 'target': 'notebook138912',\n 'status': 'Completed',\n 'startTimeUtc': '2021-02-14T21:30:05.346613Z',\n 'endTimeUtc': '2021-02-14T21:45:24.245199Z',\n 'properties': {'num_iterations': '24',\n  'training_type': 'TrainFull',\n  'acquisition_function': 'EI',\n  'primary_metric': 'accuracy',\n  'train_split': '0',\n  'acquisition_parameter': '0',\n  'num_cross_validation': '5',\n  'target': 'notebook138912',\n  'AMLSettingsJsonString': '{\"path\":null,\"name\":\"automl-capstone\",\"subscription_id\":\"b968fb36-f06a-4c76-a15f-afab68ae7667\",\"resource_group\":\"aml-quickstarts-138912\",\"workspace_name\":\"quick-starts-ws-138912\",\"region\":\"southcentralus\",\"compute_target\":\"notebook138912\",\"spark_service\":null,\"azure_service\":\"remote\",\"many_models\":false,\"pipeline_fetch_max_batch_size\":1,\"iterations\":24,\"primary_metric\":\"accuracy\",\"task_type\":\"classification\",\"data_script\":null,\"validation_size\":0.0,\"n_cross_validations\":5,\"y_min\":null,\"y_max\":null,\"num_classes\":null,\"featurization\":\"auto\",\"_ignore_package_version_incompatibilities\":false,\"is_timeseries\":false,\"max_cores_per_iteration\":1,\"max_concurrent_iterations\":4,\"iteration_timeout_minutes\":null,\"mem_in_mb\":null,\"enforce_time_on_windows\":false,\"experiment_timeout_minutes\":30,\"experiment_exit_score\":null,\"whitelist_models\":null,\"blacklist_algos\":[\"TensorFlowLinearClassifier\",\"TensorFlowDNN\"],\"supported_models\":[\"KNN\",\"LightGBM\",\"ExtremeRandomTrees\",\"XGBoostClassifier\",\"AveragedPerceptronClassifier\",\"SGD\",\"LinearSVM\",\"TensorFlowLinearClassifier\",\"BernoulliNaiveBayes\",\"MultinomialNaiveBayes\",\"GradientBoosting\",\"TensorFlowDNN\",\"DecisionTree\",\"SVM\",\"LogisticRegression\",\"RandomForest\"],\"auto_blacklist\":true,\"blacklist_samples_reached\":false,\"exclude_nan_labels\":true,\"verbosity\":20,\"_debug_log\":\"azureml_automl.log\",\"show_warnings\":false,\"model_explainability\":true,\"service_url\":null,\"sdk_url\":null,\"sdk_packages\":null,\"enable_onnx_compatible_models\":false,\"enable_split_onnx_featurizer_estimator_models\":false,\"vm_type\":\"STANDARD_DS3_V2\",\"telemetry_verbosity\":20,\"send_telemetry\":true,\"enable_dnn\":false,\"scenario\":\"SDK-1.13.0\",\"environment_label\":null,\"force_text_dnn\":false,\"enable_feature_sweeping\":true,\"enable_early_stopping\":true,\"early_stopping_n_iters\":10,\"metrics\":null,\"enable_ensembling\":true,\"enable_stack_ensembling\":true,\"ensemble_iterations\":15,\"enable_tf\":false,\"enable_subsampling\":false,\"subsample_seed\":null,\"enable_nimbusml\":false,\"enable_streaming\":false,\"force_streaming\":false,\"track_child_runs\":true,\"allowed_private_models\":[],\"label_column_name\":\"Outcome\",\"weight_column_name\":null,\"cv_split_column_names\":null,\"enable_local_managed\":false,\"_local_managed_run_id\":null,\"cost_mode\":1,\"lag_length\":0,\"metric_operation\":\"maximize\",\"preprocess\":true}',\n  'DataPrepJsonString': '{\\\\\"training_data\\\\\": \\\\\"{\\\\\\\\\\\\\"blocks\\\\\\\\\\\\\": [{\\\\\\\\\\\\\"id\\\\\\\\\\\\\": \\\\\\\\\\\\\"ad8ce605-e401-41ed-a697-c5789cdc30e0\\\\\\\\\\\\\", \\\\\\\\\\\\\"type\\\\\\\\\\\\\": \\\\\\\\\\\\\"Microsoft.DPrep.GetDatastoreFilesBlock\\\\\\\\\\\\\", \\\\\\\\\\\\\"arguments\\\\\\\\\\\\\": {\\\\\\\\\\\\\"datastores\\\\\\\\\\\\\": [{\\\\\\\\\\\\\"datastoreName\\\\\\\\\\\\\": \\\\\\\\\\\\\"workspaceblobstore\\\\\\\\\\\\\", \\\\\\\\\\\\\"path\\\\\\\\\\\\\": \\\\\\\\\\\\\"UI/02-14-2021_091821_UTC/diabetes.csv\\\\\\\\\\\\\", \\\\\\\\\\\\\"resourceGroup\\\\\\\\\\\\\": \\\\\\\\\\\\\"aml-quickstarts-138912\\\\\\\\\\\\\", \\\\\\\\\\\\\"subscription\\\\\\\\\\\\\": \\\\\\\\\\\\\"b968fb36-f06a-4c76-a15f-afab68ae7667\\\\\\\\\\\\\", \\\\\\\\\\\\\"workspaceName\\\\\\\\\\\\\": \\\\\\\\\\\\\"quick-starts-ws-138912\\\\\\\\\\\\\"}]}, \\\\\\\\\\\\\"localData\\\\\\\\\\\\\": {}, \\\\\\\\\\\\\"isEnabled\\\\\\\\\\\\\": true, \\\\\\\\\\\\\"name\\\\\\\\\\\\\": null, \\\\\\\\\\\\\"annotation\\\\\\\\\\\\\": null}, {\\\\\\\\\\\\\"id\\\\\\\\\\\\\": \\\\\\\\\\\\\"8b2a8ab9-9924-46bf-9517-932ca18ce821\\\\\\\\\\\\\", \\\\\\\\\\\\\"type\\\\\\\\\\\\\": \\\\\\\\\\\\\"Microsoft.DPrep.ParseDelimitedBlock\\\\\\\\\\\\\", \\\\\\\\\\\\\"arguments\\\\\\\\\\\\\": {\\\\\\\\\\\\\"columnHeadersMode\\\\\\\\\\\\\": 3, \\\\\\\\\\\\\"fileEncoding\\\\\\\\\\\\\": 0, \\\\\\\\\\\\\"handleQuotedLineBreaks\\\\\\\\\\\\\": false, \\\\\\\\\\\\\"preview\\\\\\\\\\\\\": false, \\\\\\\\\\\\\"separator\\\\\\\\\\\\\": \\\\\\\\\\\\\",\\\\\\\\\\\\\", \\\\\\\\\\\\\"skipRows\\\\\\\\\\\\\": 0, \\\\\\\\\\\\\"skipRowsMode\\\\\\\\\\\\\": 0}, \\\\\\\\\\\\\"localData\\\\\\\\\\\\\": {}, \\\\\\\\\\\\\"isEnabled\\\\\\\\\\\\\": true, \\\\\\\\\\\\\"name\\\\\\\\\\\\\": null, \\\\\\\\\\\\\"annotation\\\\\\\\\\\\\": null}, {\\\\\\\\\\\\\"id\\\\\\\\\\\\\": \\\\\\\\\\\\\"14ca6b58-0031-48dd-9659-bb14bc0365bd\\\\\\\\\\\\\", \\\\\\\\\\\\\"type\\\\\\\\\\\\\": \\\\\\\\\\\\\"Microsoft.DPrep.DropColumnsBlock\\\\\\\\\\\\\", \\\\\\\\\\\\\"arguments\\\\\\\\\\\\\": {\\\\\\\\\\\\\"columns\\\\\\\\\\\\\": {\\\\\\\\\\\\\"type\\\\\\\\\\\\\": 0, \\\\\\\\\\\\\"details\\\\\\\\\\\\\": {\\\\\\\\\\\\\"selectedColumns\\\\\\\\\\\\\": [\\\\\\\\\\\\\"Path\\\\\\\\\\\\\"]}}}, \\\\\\\\\\\\\"localData\\\\\\\\\\\\\": {}, \\\\\\\\\\\\\"isEnabled\\\\\\\\\\\\\": true, \\\\\\\\\\\\\"name\\\\\\\\\\\\\": null, \\\\\\\\\\\\\"annotation\\\\\\\\\\\\\": null}, {\\\\\\\\\\\\\"id\\\\\\\\\\\\\": \\\\\\\\\\\\\"72b34afb-1959-4848-b25d-8f4941c32b11\\\\\\\\\\\\\", \\\\\\\\\\\\\"type\\\\\\\\\\\\\": \\\\\\\\\\\\\"Microsoft.DPrep.SetColumnTypesBlock\\\\\\\\\\\\\", \\\\\\\\\\\\\"arguments\\\\\\\\\\\\\": {\\\\\\\\\\\\\"columnConversion\\\\\\\\\\\\\": [{\\\\\\\\\\\\\"column\\\\\\\\\\\\\": {\\\\\\\\\\\\\"type\\\\\\\\\\\\\": 2, \\\\\\\\\\\\\"details\\\\\\\\\\\\\": {\\\\\\\\\\\\\"selectedColumn\\\\\\\\\\\\\": \\\\\\\\\\\\\"Path\\\\\\\\\\\\\"}}, \\\\\\\\\\\\\"typeProperty\\\\\\\\\\\\\": 0}, {\\\\\\\\\\\\\"column\\\\\\\\\\\\\": {\\\\\\\\\\\\\"type\\\\\\\\\\\\\": 2, \\\\\\\\\\\\\"details\\\\\\\\\\\\\": {\\\\\\\\\\\\\"selectedColumn\\\\\\\\\\\\\": \\\\\\\\\\\\\"Pregnancies\\\\\\\\\\\\\"}}, \\\\\\\\\\\\\"typeProperty\\\\\\\\\\\\\": 2}, {\\\\\\\\\\\\\"column\\\\\\\\\\\\\": {\\\\\\\\\\\\\"type\\\\\\\\\\\\\": 2, \\\\\\\\\\\\\"details\\\\\\\\\\\\\": {\\\\\\\\\\\\\"selectedColumn\\\\\\\\\\\\\": \\\\\\\\\\\\\"Glucose\\\\\\\\\\\\\"}}, \\\\\\\\\\\\\"typeProperty\\\\\\\\\\\\\": 2}, {\\\\\\\\\\\\\"column\\\\\\\\\\\\\": {\\\\\\\\\\\\\"type\\\\\\\\\\\\\": 2, \\\\\\\\\\\\\"details\\\\\\\\\\\\\": {\\\\\\\\\\\\\"selectedColumn\\\\\\\\\\\\\": \\\\\\\\\\\\\"BloodPressure\\\\\\\\\\\\\"}}, \\\\\\\\\\\\\"typeProperty\\\\\\\\\\\\\": 2}, {\\\\\\\\\\\\\"column\\\\\\\\\\\\\": {\\\\\\\\\\\\\"type\\\\\\\\\\\\\": 2, \\\\\\\\\\\\\"details\\\\\\\\\\\\\": {\\\\\\\\\\\\\"selectedColumn\\\\\\\\\\\\\": \\\\\\\\\\\\\"SkinThickness\\\\\\\\\\\\\"}}, \\\\\\\\\\\\\"typeProperty\\\\\\\\\\\\\": 2}, {\\\\\\\\\\\\\"column\\\\\\\\\\\\\": {\\\\\\\\\\\\\"type\\\\\\\\\\\\\": 2, \\\\\\\\\\\\\"details\\\\\\\\\\\\\": {\\\\\\\\\\\\\"selectedColumn\\\\\\\\\\\\\": \\\\\\\\\\\\\"Insulin\\\\\\\\\\\\\"}}, \\\\\\\\\\\\\"typeProperty\\\\\\\\\\\\\": 2}, {\\\\\\\\\\\\\"column\\\\\\\\\\\\\": {\\\\\\\\\\\\\"type\\\\\\\\\\\\\": 2, \\\\\\\\\\\\\"details\\\\\\\\\\\\\": {\\\\\\\\\\\\\"selectedColumn\\\\\\\\\\\\\": \\\\\\\\\\\\\"BMI\\\\\\\\\\\\\"}}, \\\\\\\\\\\\\"typeProperty\\\\\\\\\\\\\": 3}, {\\\\\\\\\\\\\"column\\\\\\\\\\\\\": {\\\\\\\\\\\\\"type\\\\\\\\\\\\\": 2, \\\\\\\\\\\\\"details\\\\\\\\\\\\\": {\\\\\\\\\\\\\"selectedColumn\\\\\\\\\\\\\": \\\\\\\\\\\\\"DiabetesPedigreeFunction\\\\\\\\\\\\\"}}, \\\\\\\\\\\\\"typeProperty\\\\\\\\\\\\\": 3}, {\\\\\\\\\\\\\"column\\\\\\\\\\\\\": {\\\\\\\\\\\\\"type\\\\\\\\\\\\\": 2, \\\\\\\\\\\\\"details\\\\\\\\\\\\\": {\\\\\\\\\\\\\"selectedColumn\\\\\\\\\\\\\": \\\\\\\\\\\\\"Age\\\\\\\\\\\\\"}}, \\\\\\\\\\\\\"typeProperty\\\\\\\\\\\\\": 2}, {\\\\\\\\\\\\\"column\\\\\\\\\\\\\": {\\\\\\\\\\\\\"type\\\\\\\\\\\\\": 2, \\\\\\\\\\\\\"details\\\\\\\\\\\\\": {\\\\\\\\\\\\\"selectedColumn\\\\\\\\\\\\\": \\\\\\\\\\\\\"Outcome\\\\\\\\\\\\\"}}, \\\\\\\\\\\\\"typeProperty\\\\\\\\\\\\\": 2}]}, \\\\\\\\\\\\\"localData\\\\\\\\\\\\\": {}, \\\\\\\\\\\\\"isEnabled\\\\\\\\\\\\\": true, \\\\\\\\\\\\\"name\\\\\\\\\\\\\": null, \\\\\\\\\\\\\"annotation\\\\\\\\\\\\\": null}], \\\\\\\\\\\\\"inspectors\\\\\\\\\\\\\": [], \\\\\\\\\\\\\"meta\\\\\\\\\\\\\": {\\\\\\\\\\\\\"savedDatasetId\\\\\\\\\\\\\": \\\\\\\\\\\\\"f18913f8-b280-4eb9-94b1-b18249536a79\\\\\\\\\\\\\", \\\\\\\\\\\\\"datasetType\\\\\\\\\\\\\": \\\\\\\\\\\\\"tabular\\\\\\\\\\\\\", \\\\\\\\\\\\\"subscriptionId\\\\\\\\\\\\\": \\\\\\\\\\\\\"b968fb36-f06a-4c76-a15f-afab68ae7667\\\\\\\\\\\\\", \\\\\\\\\\\\\"workspaceId\\\\\\\\\\\\\": \\\\\\\\\\\\\"8a3e3d52-5ff2-4ce7-8f68-93f8c1aeaac6\\\\\\\\\\\\\", \\\\\\\\\\\\\"workspaceLocation\\\\\\\\\\\\\": \\\\\\\\\\\\\"southcentralus\\\\\\\\\\\\\"}}\\\\\", \\\\\"activities\\\\\": 0}',\n  'EnableSubsampling': 'False',\n  'runTemplate': 'AutoML',\n  'azureml.runsource': 'automl',\n  'display_task_type': 'classification',\n  'dependencies_versions': '{\"azureml-widgets\": \"1.20.0\", \"azureml-train\": \"1.20.0\", \"azureml-train-restclients-hyperdrive\": \"1.20.0\", \"azureml-train-core\": \"1.20.0\", \"azureml-train-automl\": \"1.20.0\", \"azureml-train-automl-runtime\": \"1.20.0\", \"azureml-train-automl-client\": \"1.20.0\", \"azureml-tensorboard\": \"1.20.0\", \"azureml-telemetry\": \"1.20.0\", \"azureml-sdk\": \"1.20.0\", \"azureml-samples\": \"0+unknown\", \"azureml-pipeline\": \"1.20.0\", \"azureml-pipeline-steps\": \"1.20.0\", \"azureml-pipeline-core\": \"1.20.0\", \"azureml-opendatasets\": \"1.20.0\", \"azureml-model-management-sdk\": \"1.0.1b6.post1\", \"azureml-mlflow\": \"1.20.0.post1\", \"azureml-interpret\": \"1.20.0\", \"azureml-explain-model\": \"1.20.0\", \"azureml-defaults\": \"1.20.0\", \"azureml-dataset-runtime\": \"1.20.0\", \"azureml-dataprep\": \"2.7.3\", \"azureml-dataprep-rslex\": \"1.5.0\", \"azureml-dataprep-native\": \"27.0.0\", \"azureml-datadrift\": \"1.20.0\", \"azureml-core\": \"1.20.0\", \"azureml-contrib-services\": \"1.20.0\", \"azureml-contrib-server\": \"1.20.0\", \"azureml-contrib-reinforcementlearning\": \"1.20.0\", \"azureml-contrib-pipeline-steps\": \"1.20.0\", \"azureml-contrib-notebook\": \"1.20.0\", \"azureml-contrib-interpret\": \"1.20.0\", \"azureml-contrib-gbdt\": \"1.20.0\", \"azureml-contrib-fairness\": \"1.20.0\", \"azureml-contrib-dataset\": \"1.20.0\", \"azureml-cli-common\": \"1.20.0\", \"azureml-automl-runtime\": \"1.20.0\", \"azureml-automl-core\": \"1.20.0\", \"azureml-accel-models\": \"1.20.0\"}',\n  '_aml_system_scenario_identification': 'Remote.Parent',\n  'ClientType': 'SDK',\n  'environment_cpu_name': 'AzureML-AutoML',\n  'environment_cpu_label': 'prod',\n  'environment_gpu_name': 'AzureML-AutoML-GPU',\n  'environment_gpu_label': 'prod',\n  'root_attribution': 'automl',\n  'attribution': 'AutoML',\n  'Orchestrator': 'AutoML',\n  'CancelUri': 'https://southcentralus.experiments.azureml.net/jasmine/v1.0/subscriptions/b968fb36-f06a-4c76-a15f-afab68ae7667/resourceGroups/aml-quickstarts-138912/providers/Microsoft.MachineLearningServices/workspaces/quick-starts-ws-138912/experimentids/dae083dc-6d3b-4aa8-8ac1-b99ec064a02d/cancel/AutoML_01843660-d936-4a03-a31a-ece32909196e',\n  'ClientSdkVersion': '1.21.0',\n  'snapshotId': '00000000-0000-0000-0000-000000000000',\n  'SetupRunId': 'AutoML_01843660-d936-4a03-a31a-ece32909196e_setup',\n  'SetupRunContainerId': 'dcid.AutoML_01843660-d936-4a03-a31a-ece32909196e_setup',\n  'FeaturizationRunJsonPath': 'featurizer_container.json',\n  'FeaturizationRunId': 'AutoML_01843660-d936-4a03-a31a-ece32909196e_featurize',\n  'ProblemInfoJsonString': '{\"dataset_num_categorical\": 0, \"is_sparse\": true, \"subsampling\": false, \"dataset_classes\": 2, \"dataset_features\": 24, \"dataset_samples\": 768, \"single_frequency_class_detected\": false}',\n  'ModelExplainRunId': 'AutoML_01843660-d936-4a03-a31a-ece32909196e_ModelExplain'},\n 'inputDatasets': [{'dataset': {'id': 'f18913f8-b280-4eb9-94b1-b18249536a79'}, 'consumptionDetails': {'type': 'RunInput', 'inputName': 'training_data', 'mechanism': 'Direct'}}],\n 'outputDatasets': [],\n 'logFiles': {},\n 'submittedBy': 'ODL_User 138912'}"
          },
          "metadata": {}
        }
      ],
      "execution_count": 14,
      "metadata": {
        "gather": {
          "logged": 1613339528672
        }
      }
    },
    {
      "cell_type": "code",
      "source": [
        "remote_run"
      ],
      "outputs": [
        {
          "output_type": "execute_result",
          "execution_count": 15,
          "data": {
            "text/plain": "Run(Experiment: automl-capstone,\nId: AutoML_01843660-d936-4a03-a31a-ece32909196e,\nType: automl,\nStatus: Completed)",
            "text/html": "<table style=\"width:100%\"><tr><th>Experiment</th><th>Id</th><th>Type</th><th>Status</th><th>Details Page</th><th>Docs Page</th></tr><tr><td>automl-capstone</td><td>AutoML_01843660-d936-4a03-a31a-ece32909196e</td><td>automl</td><td>Completed</td><td><a href=\"https://ml.azure.com/experiments/automl-capstone/runs/AutoML_01843660-d936-4a03-a31a-ece32909196e?wsid=/subscriptions/b968fb36-f06a-4c76-a15f-afab68ae7667/resourcegroups/aml-quickstarts-138912/workspaces/quick-starts-ws-138912\" target=\"_blank\" rel=\"noopener\">Link to Azure Machine Learning studio</a></td><td><a href=\"https://docs.microsoft.com/en-us/python/api/overview/azure/ml/intro?view=azure-ml-py\" target=\"_blank\" rel=\"noopener\">Link to Documentation</a></td></tr></table>"
          },
          "metadata": {}
        }
      ],
      "execution_count": 15,
      "metadata": {
        "gather": {
          "logged": 1613339612863
        }
      }
    },
    {
      "cell_type": "markdown",
      "source": [
        "## Best Model\n",
        "\n",
        "The cell below shows the best model from the automl experiments and display all the properties of the model.\n",
        "\n"
      ],
      "metadata": {}
    },
    {
      "cell_type": "code",
      "source": [
        "# find and save best automl model\n",
        "best_run, fitted_model = remote_run.get_output()\n",
        "print(best_run)\n",
        "print(fitted_model.steps)"
      ],
      "outputs": [
        {
          "output_type": "stream",
          "name": "stderr",
          "text": [
            "WARNING:root:The version of the SDK does not match the version the model was trained on.\n",
            "WARNING:root:The consistency in the result may not be guaranteed.\n",
            "WARNING:root:Package:azureml-automl-core, training version:1.21.0, current version:1.20.0\n",
            "Package:azureml-automl-runtime, training version:1.21.0, current version:1.20.0\n",
            "Package:azureml-core, training version:1.21.0.post1, current version:1.20.0\n",
            "Package:azureml-dataprep, training version:2.8.2, current version:2.7.3\n",
            "Package:azureml-dataprep-native, training version:28.0.0, current version:27.0.0\n",
            "Package:azureml-dataprep-rslex, training version:1.6.0, current version:1.5.0\n",
            "Package:azureml-dataset-runtime, training version:1.21.0, current version:1.20.0\n",
            "Package:azureml-defaults, training version:1.21.0, current version:1.20.0\n",
            "Package:azureml-interpret, training version:1.21.0, current version:1.20.0\n",
            "Package:azureml-pipeline-core, training version:1.21.0, current version:1.20.0\n",
            "Package:azureml-telemetry, training version:1.21.0, current version:1.20.0\n",
            "Package:azureml-train-automl-client, training version:1.21.0, current version:1.20.0\n",
            "Package:azureml-train-automl-runtime, training version:1.21.0, current version:1.20.0\n",
            "WARNING:root:Please ensure the version of your local conda dependencies match the version on which your model was trained in order to properly retrieve your model.\n"
          ]
        },
        {
          "output_type": "stream",
          "name": "stdout",
          "text": [
            "Run(Experiment: automl-capstone,\n",
            "Id: AutoML_01843660-d936-4a03-a31a-ece32909196e_22,\n",
            "Type: azureml.scriptrun,\n",
            "Status: Completed)\n",
            "[('datatransformer', DataTransformer(enable_dnn=None, enable_feature_sweeping=None,\n",
            "                feature_sweeping_config=None, feature_sweeping_timeout=None,\n",
            "                featurization_config=None, force_text_dnn=None,\n",
            "                is_cross_validation=None, is_onnx_compatible=None, logger=None,\n",
            "                observer=None, task=None, working_dir=None)), ('prefittedsoftvotingclassifier', PreFittedSoftVotingClassifier(classification_labels=None,\n",
            "                              estimators=[('17',\n",
            "                                           Pipeline(memory=None,\n",
            "                                                    steps=[('maxabsscaler',\n",
            "                                                            MaxAbsScaler(copy=True)),\n",
            "                                                           ('logisticregression',\n",
            "                                                            LogisticRegression(C=3237.45754281764,\n",
            "                                                                               class_weight=None,\n",
            "                                                                               dual=False,\n",
            "                                                                               fit_intercept=True,\n",
            "                                                                               intercept_scaling=1,\n",
            "                                                                               l1_ratio=None,\n",
            "                                                                               max_iter=100,\n",
            "                                                                               multi_class='ovr',\n",
            "                                                                               n_jobs=1,\n",
            "                                                                               penalty='l1',\n",
            "                                                                               random_stat...\n",
            "                                                                              reg_alpha=0.5208333333333334,\n",
            "                                                                              reg_lambda=0.8333333333333334,\n",
            "                                                                              scale_pos_weight=1,\n",
            "                                                                              seed=None,\n",
            "                                                                              silent=None,\n",
            "                                                                              subsample=0.6,\n",
            "                                                                              tree_method='auto',\n",
            "                                                                              verbose=-10,\n",
            "                                                                              verbosity=0))],\n",
            "                                                    verbose=False))],\n",
            "                              flatten_transform=None,\n",
            "                              weights=[0.09090909090909091, 0.09090909090909091,\n",
            "                                       0.09090909090909091, 0.18181818181818182,\n",
            "                                       0.18181818181818182, 0.18181818181818182,\n",
            "                                       0.18181818181818182]))]\n"
          ]
        }
      ],
      "execution_count": 17,
      "metadata": {
        "gather": {
          "logged": 1613339751494
        },
        "jupyter": {
          "outputs_hidden": false,
          "source_hidden": false
        },
        "nteract": {
          "transient": {
            "deleting": false
          }
        }
      }
    },
    {
      "cell_type": "code",
      "source": [
        "print(fitted_model)"
      ],
      "outputs": [
        {
          "output_type": "stream",
          "name": "stdout",
          "text": [
            "Pipeline(memory=None,\n",
            "         steps=[('datatransformer',\n",
            "                 DataTransformer(enable_dnn=None, enable_feature_sweeping=None,\n",
            "                                 feature_sweeping_config=None,\n",
            "                                 feature_sweeping_timeout=None,\n",
            "                                 featurization_config=None, force_text_dnn=None,\n",
            "                                 is_cross_validation=None,\n",
            "                                 is_onnx_compatible=None, logger=None,\n",
            "                                 observer=None, task=None, working_dir=None)),\n",
            "                ('prefittedsoftvotingclassifier',...\n",
            "                                                                                               reg_alpha=0.5208333333333334,\n",
            "                                                                                               reg_lambda=0.8333333333333334,\n",
            "                                                                                               scale_pos_weight=1,\n",
            "                                                                                               seed=None,\n",
            "                                                                                               silent=None,\n",
            "                                                                                               subsample=0.6,\n",
            "                                                                                               tree_method='auto',\n",
            "                                                                                               verbose=-10,\n",
            "                                                                                               verbosity=0))],\n",
            "                                                                     verbose=False))],\n",
            "                                               flatten_transform=None,\n",
            "                                               weights=[0.09090909090909091,\n",
            "                                                        0.09090909090909091,\n",
            "                                                        0.09090909090909091,\n",
            "                                                        0.18181818181818182,\n",
            "                                                        0.18181818181818182,\n",
            "                                                        0.18181818181818182,\n",
            "                                                        0.18181818181818182]))],\n",
            "         verbose=False)\n"
          ]
        }
      ],
      "execution_count": 18,
      "metadata": {
        "gather": {
          "logged": 1613339775345
        }
      }
    },
    {
      "cell_type": "code",
      "source": [
        "best_run_metrics=remote_run.get_metrics()"
      ],
      "outputs": [],
      "execution_count": 19,
      "metadata": {
        "gather": {
          "logged": 1613339847029
        }
      }
    },
    {
      "cell_type": "code",
      "source": [
        "# Show all metrics for our best run\r\n",
        "for metric_name in best_run_metrics:\r\n",
        "    metric = best_run_metrics[metric_name]\r\n",
        "    print(metric_name, metric)"
      ],
      "outputs": [
        {
          "output_type": "stream",
          "name": "stdout",
          "text": [
            "experiment_status ['DatasetEvaluation', 'FeaturesGeneration', 'DatasetFeaturization', 'DatasetFeaturizationCompleted', 'DatasetCrossValidationSplit', 'ModelSelection']\n",
            "experiment_status_description ['Gathering dataset statistics.', 'Generating features for the dataset.', 'Beginning to fit featurizers and featurize the dataset.', 'Completed fit featurizers and featurizing the dataset.', 'Generating individually featurized CV splits.', 'Beginning model selection.']\n",
            "matthews_correlation 0.5100479946254547\n",
            "precision_score_macro 0.7767529003830413\n",
            "recall_score_micro 0.787810881928529\n",
            "f1_score_macro 0.7461635802185229\n",
            "weighted_accuracy 0.8288071848964478\n",
            "log_loss 0.4805423157349399\n",
            "accuracy 0.787810881928529\n",
            "average_precision_score_weighted 0.8429799420241949\n",
            "precision_score_weighted 0.7871495358175469\n",
            "recall_score_macro 0.7351453929387143\n",
            "AUC_macro 0.834385233677083\n",
            "recall_score_weighted 0.787810881928529\n",
            "average_precision_score_macro 0.8136057681069753\n",
            "average_precision_score_micro 0.8539149421181118\n",
            "AUC_weighted 0.8343852336770828\n",
            "f1_score_micro 0.787810881928529\n",
            "norm_macro_recall 0.4702907858774285\n",
            "precision_score_micro 0.787810881928529\n",
            "AUC_micro 0.8532829534701941\n",
            "f1_score_weighted 0.7792506631493782\n",
            "balanced_accuracy 0.7351453929387143\n"
          ]
        }
      ],
      "execution_count": 20,
      "metadata": {
        "collapsed": true,
        "jupyter": {
          "source_hidden": false,
          "outputs_hidden": false
        },
        "nteract": {
          "transient": {
            "deleting": false
          }
        },
        "gather": {
          "logged": 1613339910969
        }
      }
    },
    {
      "cell_type": "code",
      "source": [
        "BestModel = best_run.register_model(model_path='outputs/model.pkl', model_name='diabeteModel_automl',\r\n",
        "                        tags={'Training context':'Auto ML'},\r\n",
        "                        properties={'Accuracy': best_run_metrics['accuracy']})\r\n",
        "\r\n",
        "print(BestModel)"
      ],
      "outputs": [
        {
          "output_type": "stream",
          "name": "stdout",
          "text": [
            "Model(workspace=Workspace.create(name='quick-starts-ws-138912', subscription_id='b968fb36-f06a-4c76-a15f-afab68ae7667', resource_group='aml-quickstarts-138912'), name=diabeteModel_automl, id=diabeteModel_automl:1, version=1, tags={'Training context': 'Auto ML'}, properties={'Accuracy': '0.787810881928529'})\n"
          ]
        }
      ],
      "execution_count": 22,
      "metadata": {
        "collapsed": true,
        "jupyter": {
          "source_hidden": false,
          "outputs_hidden": false
        },
        "nteract": {
          "transient": {
            "deleting": false
          }
        },
        "gather": {
          "logged": 1613340126620
        }
      }
    },
    {
      "cell_type": "code",
      "source": [
        "# SHow that our model saved\r\n",
        "for model in Model.list(ws):\r\n",
        "    print(model.name, 'version:', model.version)\r\n",
        "    for tag_name in model.tags:\r\n",
        "        tag = model.tags[tag_name]\r\n",
        "        print ('\\t',tag_name, ':', tag)\r\n",
        "    for prop_name in model.properties:\r\n",
        "        prop = model.properties[prop_name]\r\n",
        "        print ('\\t',prop_name, ':', prop)\r\n",
        "    print('\\n')"
      ],
      "outputs": [
        {
          "output_type": "stream",
          "name": "stdout",
          "text": [
            "diabeteModel_automl version: 1\n",
            "\t Training context : Auto ML\n",
            "\t Accuracy : 0.787810881928529\n",
            "\n",
            "\n",
            "capstoneModel_automl version: 1\n",
            "\t Training context : Auto ML\n",
            "\t Accuracy : 0.787810881928529\n",
            "\n",
            "\n"
          ]
        }
      ],
      "execution_count": 23,
      "metadata": {
        "collapsed": true,
        "jupyter": {
          "source_hidden": false,
          "outputs_hidden": false
        },
        "nteract": {
          "transient": {
            "deleting": false
          }
        },
        "gather": {
          "logged": 1613340184080
        }
      }
    },
    {
      "cell_type": "markdown",
      "source": [
        "## Model Deployment\n",
        "\n",
        "Remember you have to deploy only one of the two models you trained.. Perform the steps in the rest of this notebook only if you wish to deploy this model.\n",
        "\n",
        "In the cell below, we have registered the model, created an inference config and deployed the model as a web service."
      ],
      "metadata": {}
    },
    {
      "cell_type": "code",
      "source": [
        "from azureml.core.environment import Environment\r\n",
        "from azureml.core.model import InferenceConfig, Model\r\n",
        "from azureml.core.webservice.aci import AciWebservice\r\n",
        "from azureml.core.webservice import Webservice\r\n",
        "from azureml.core.model import Model"
      ],
      "outputs": [],
      "execution_count": 36,
      "metadata": {
        "collapsed": true,
        "jupyter": {
          "source_hidden": false,
          "outputs_hidden": false
        },
        "nteract": {
          "transient": {
            "deleting": false
          }
        },
        "gather": {
          "logged": 1613341695177
        }
      }
    },
    {
      "cell_type": "code",
      "source": [
        "env = best_run.get_environment().save_to_directory(path='environments')"
      ],
      "outputs": [],
      "execution_count": 38,
      "metadata": {
        "collapsed": true,
        "jupyter": {
          "source_hidden": false,
          "outputs_hidden": false
        },
        "nteract": {
          "transient": {
            "deleting": false
          }
        },
        "gather": {
          "logged": 1613341773592
        }
      }
    },
    {
      "cell_type": "code",
      "source": [
        "script_file= 'score.py'\r\n",
        "\r\n",
        "best_run.download_file('outputs/scoring_file_v_1_0_0.py', script_file)"
      ],
      "outputs": [],
      "execution_count": 40,
      "metadata": {
        "collapsed": true,
        "jupyter": {
          "source_hidden": false,
          "outputs_hidden": false
        },
        "nteract": {
          "transient": {
            "deleting": false
          }
        },
        "gather": {
          "logged": 1613341807082
        }
      }
    },
    {
      "cell_type": "code",
      "source": [
        "# Registring the best model\n",
        "model = best_model.register_model(model_name='automl-best-model',model_path='outputs/model.pkl')\n"
      ],
      "outputs": [],
      "execution_count": 32,
      "metadata": {
        "gather": {
          "logged": 1613341005194
        },
        "jupyter": {
          "outputs_hidden": false,
          "source_hidden": false
        },
        "nteract": {
          "transient": {
            "deleting": false
          }
        }
      }
    },
    {
      "cell_type": "code",
      "source": [
        "inference_config = InferenceConfig(entry_script='score.py',\n",
        " environment=environment)\n"
      ],
      "outputs": [],
      "execution_count": 41,
      "metadata": {
        "gather": {
          "logged": 1613341823636
        }
      }
    },
    {
      "cell_type": "code",
      "source": [
        "service_name = 'automl-deploy'\r\n",
        "deployment_config = AciWebservice.deploy_configuration(cpu_cores=1, memory_gb=1)\r\n",
        "\r\n",
        "service = Model.deploy(workspace=ws,\r\n",
        "                       name=service_name,\r\n",
        "                       models=[model],\r\n",
        "                       inference_config=inference_config,\r\n",
        "                       deployment_config=deployment_config,\r\n",
        "                       overwrite=True\r\n",
        "                      )\r\n",
        "service.wait_for_deployment(show_output=True)\r\n",
        "\r\n",
        "scoring_uri = service.scoring_uri\r\n",
        "print(scoring_uri)"
      ],
      "outputs": [
        {
          "output_type": "stream",
          "name": "stdout",
          "text": [
            "Tips: You can try get_logs(): https://aka.ms/debugimage#dockerlog or local deployment: https://aka.ms/debugimage#debug-locally to debug if deployment takes longer than 10 minutes.\n",
            "Running............................................\n",
            "Succeeded\n",
            "ACI service creation operation finished, operation \"Succeeded\"\n",
            "http://f7511453-d747-4906-b13b-8de05ba86490.southcentralus.azurecontainer.io/score\n"
          ]
        }
      ],
      "execution_count": 42,
      "metadata": {
        "collapsed": true,
        "jupyter": {
          "source_hidden": false,
          "outputs_hidden": false
        },
        "nteract": {
          "transient": {
            "deleting": false
          }
        },
        "gather": {
          "logged": 1613342112305
        }
      }
    },
    {
      "cell_type": "code",
      "source": [
        "# Enable app insights\n",
        "service.update(enable_app_insights=True)"
      ],
      "outputs": [],
      "execution_count": 43,
      "metadata": {
        "gather": {
          "logged": 1613342155863
        }
      }
    },
    {
      "cell_type": "markdown",
      "source": [
        "In the cell below, we have sent a request to the web service to test it."
      ],
      "metadata": {
        "gather": {
          "logged": 1598431657736
        },
        "jupyter": {
          "outputs_hidden": false,
          "source_hidden": false
        },
        "nteract": {
          "transient": {
            "deleting": false
          }
        }
      }
    },
    {
      "cell_type": "code",
      "source": [
        "import requests\r\n",
        "import json"
      ],
      "outputs": [],
      "execution_count": 44,
      "metadata": {
        "collapsed": true,
        "jupyter": {
          "source_hidden": false,
          "outputs_hidden": false
        },
        "nteract": {
          "transient": {
            "deleting": false
          }
        },
        "gather": {
          "logged": 1613342180999
        }
      }
    },
    {
      "cell_type": "code",
      "source": [
        "\n",
        "\n",
        "#two set of data to score, so we get two results back\n",
        "data = {\"data\": [{\"Pregnancies\": 5, \n",
        "     \"Glucose\": 150, \n",
        "     \"BloodPressure\": 70, \n",
        "     \"SkinThickness\": 40, \n",
        "     \"Insulin\": 10, \n",
        "     \"BMI\": 36.5, \n",
        "     \"DiabetesPedigreeFunction\": 0.627, \n",
        "     \"Age\": 30},\n",
        "\n",
        "    {\"Pregnancies\": 5, \n",
        "     \"Glucose\": 90, \n",
        "     \"BloodPressure\": 70, \n",
        "     \"SkinThickness\": 34, \n",
        "     \"Insulin\": 20, \n",
        "     \"BMI\": 26.5, \n",
        "     \"DiabetesPedigreeFunction\": 0.351, \n",
        "     \"Age\": 28},\n",
        "      ]}\n",
        "    \n",
        "# Convert to JSON string\n",
        "input_data = json.dumps(data)\n",
        "with open(\"data.json\", \"w\") as _f:\n",
        "    _f.write(input_data)\n",
        "\n",
        "# Set the content type\n",
        "headers = {'Content-Type': 'application/json'}\n",
        "# If authentication is enabled, set the authorization header\n",
        "#headers['Authorization'] = f'Bearer {key}'\n",
        "\n",
        "# Make the request and display the response\n",
        "resp = requests.post(scoring_uri, input_data, headers=headers)\n",
        "print(resp.json())\n",
        "print(\"Case 0: Not Diabetes, Case 1: Diabetes.\")"
      ],
      "outputs": [
        {
          "output_type": "stream",
          "name": "stdout",
          "text": [
            "{\"result\": [1, 0]}\n",
            "Case 0: Not Diabetes, Case 1: Diabetes.\n"
          ]
        }
      ],
      "execution_count": 45,
      "metadata": {
        "gather": {
          "logged": 1613342191600
        }
      }
    },
    {
      "cell_type": "code",
      "source": [
        "data = [{\"Pregnancies\": 12, \n",
        "     \"Glucose\": 190, \n",
        "     \"BloodPressure\": 120, \n",
        "     \"SkinThickness\": 60, \n",
        "     \"Insulin\": 700, \n",
        "     \"BMI\": 56.5, \n",
        "     \"DiabetesPedigreeFunction\": 1.5, \n",
        "     \"Age\": 70},\n",
        "\n",
        "    {\"Pregnancies\": 6, \n",
        "     \"Glucose\": 40, \n",
        "     \"BloodPressure\": 70, \n",
        "     \"SkinThickness\": 24, \n",
        "     \"Insulin\": 0, \n",
        "     \"BMI\": 25.5, \n",
        "     \"DiabetesPedigreeFunction\": 0.351, \n",
        "     \"Age\": 22},\n",
        "      ]\n",
        "\n",
        "print(data)"
      ],
      "outputs": [
        {
          "output_type": "stream",
          "name": "stdout",
          "text": [
            "[{'Pregnancies': 12, 'Glucose': 190, 'BloodPressure': 120, 'SkinThickness': 60, 'Insulin': 700, 'BMI': 56.5, 'DiabetesPedigreeFunction': 1.5, 'Age': 70}, {'Pregnancies': 6, 'Glucose': 40, 'BloodPressure': 70, 'SkinThickness': 24, 'Insulin': 0, 'BMI': 25.5, 'DiabetesPedigreeFunction': 0.351, 'Age': 22}]\n"
          ]
        }
      ],
      "execution_count": 56,
      "metadata": {
        "gather": {
          "logged": 1613342772359
        }
      }
    },
    {
      "cell_type": "code",
      "source": [
        "# test using service instance\n",
        "input_data = json.dumps({\n",
        "    'data': data\n",
        "})\n",
        "\n",
        "output = service.run(input_data)\n",
        "output"
      ],
      "outputs": [
        {
          "output_type": "execute_result",
          "execution_count": 57,
          "data": {
            "text/plain": "'{\"result\": [1, 0]}'"
          },
          "metadata": {}
        }
      ],
      "execution_count": 57,
      "metadata": {
        "gather": {
          "logged": 1613342778533
        }
      }
    },
    {
      "cell_type": "markdown",
      "source": [
        "Print the logs of the web service and delete the service"
      ],
      "metadata": {
        "gather": {
          "logged": 1598432765711
        },
        "jupyter": {
          "outputs_hidden": false,
          "source_hidden": false
        },
        "nteract": {
          "transient": {
            "deleting": false
          }
        }
      }
    },
    {
      "cell_type": "code",
      "source": [
        "logs = service.get_logs()\n",
        "logs"
      ],
      "outputs": [
        {
          "output_type": "execute_result",
          "execution_count": 58,
          "data": {
            "text/plain": "'2021-02-14T22:39:43,339067300+00:00 - gunicorn/run \\n2021-02-14T22:39:43,339106100+00:00 - iot-server/run \\n2021-02-14T22:39:43,352195300+00:00 - rsyslog/run \\n2021-02-14T22:39:43,399722400+00:00 - nginx/run \\n/usr/sbin/nginx: /azureml-envs/azureml_09ff55f546b313bb1ab136a466214499/lib/libcrypto.so.1.0.0: no version information available (required by /usr/sbin/nginx)\\n/usr/sbin/nginx: /azureml-envs/azureml_09ff55f546b313bb1ab136a466214499/lib/libcrypto.so.1.0.0: no version information available (required by /usr/sbin/nginx)\\n/usr/sbin/nginx: /azureml-envs/azureml_09ff55f546b313bb1ab136a466214499/lib/libssl.so.1.0.0: no version information available (required by /usr/sbin/nginx)\\n/usr/sbin/nginx: /azureml-envs/azureml_09ff55f546b313bb1ab136a466214499/lib/libssl.so.1.0.0: no version information available (required by /usr/sbin/nginx)\\n/usr/sbin/nginx: /azureml-envs/azureml_09ff55f546b313bb1ab136a466214499/lib/libssl.so.1.0.0: no version information available (required by /usr/sbin/nginx)\\nrsyslogd: /azureml-envs/azureml_09ff55f546b313bb1ab136a466214499/lib/libuuid.so.1: no version information available (required by rsyslogd)\\nEdgeHubConnectionString and IOTEDGE_IOTHUBHOSTNAME are not set. Exiting...\\n2021-02-14T22:39:45,504165900+00:00 - iot-server/finish 1 0\\n2021-02-14T22:39:45,513319300+00:00 - Exit code 1 is normal. Not restarting iot-server.\\nStarting gunicorn 19.9.0\\nListening at: http://127.0.0.1:31311 (65)\\nUsing worker: sync\\nworker timeout is set to 300\\nBooting worker with pid: 94\\nSPARK_HOME not set. Skipping PySpark Initialization.\\nGenerating new fontManager, this may take some time...\\nInitializing logger\\n2021-02-14 22:39:51,140 | root | INFO | Starting up app insights client\\n2021-02-14 22:39:51,141 | root | INFO | Starting up request id generator\\n2021-02-14 22:39:51,142 | root | INFO | Starting up app insight hooks\\n2021-02-14 22:39:51,142 | root | INFO | Invoking user\\'s init function\\n2021-02-14 22:40:02,505 | root | INFO | Users\\'s init has completed successfully\\n2021-02-14 22:40:02,519 | root | INFO | Skipping middleware: dbg_model_info as it\\'s not enabled.\\n2021-02-14 22:40:02,519 | root | INFO | Skipping middleware: dbg_resource_usage as it\\'s not enabled.\\n2021-02-14 22:40:02,523 | root | INFO | Scoring timeout is found from os.environ: 60000 ms\\n2021-02-14 22:40:32,394 | root | INFO | 200\\n127.0.0.1 - - [14/Feb/2021:22:40:32 +0000] \"GET /swagger.json HTTP/1.0\" 200 2536 \"-\" \"Go-http-client/1.1\"\\n2021-02-14 22:46:17,797 | root | INFO | Validation Request Content-Type\\n2021-02-14 22:46:17,799 | root | INFO | Scoring Timer is set to 60.0 seconds\\n2021-02-14 22:46:17,913 | root | INFO | 200\\n127.0.0.1 - - [14/Feb/2021:22:46:17 +0000] \"POST /score HTTP/1.0\" 200 22 \"-\" \"python-requests/2.25.1\"\\n'"
          },
          "metadata": {}
        }
      ],
      "execution_count": 58,
      "metadata": {
        "jupyter": {
          "outputs_hidden": false,
          "source_hidden": false
        },
        "nteract": {
          "transient": {
            "deleting": false
          }
        },
        "gather": {
          "logged": 1613342787702
        }
      }
    },
    {
      "cell_type": "code",
      "source": [
        "service.delete()"
      ],
      "outputs": [],
      "execution_count": 26,
      "metadata": {}
    },
    {
      "cell_type": "code",
      "source": [],
      "outputs": [],
      "execution_count": null,
      "metadata": {}
    },
    {
      "cell_type": "code",
      "source": [],
      "outputs": [],
      "execution_count": null,
      "metadata": {}
    }
  ],
  "metadata": {
    "kernel_info": {
      "name": "python3"
    },
    "kernelspec": {
      "name": "python3",
      "language": "python",
      "display_name": "Python 3"
    },
    "language_info": {
      "name": "python",
      "version": "3.6.9",
      "mimetype": "text/x-python",
      "codemirror_mode": {
        "name": "ipython",
        "version": 3
      },
      "pygments_lexer": "ipython3",
      "nbconvert_exporter": "python",
      "file_extension": ".py"
    },
    "nteract": {
      "version": "nteract-front-end@1.0.0"
    }
  },
  "nbformat": 4,
  "nbformat_minor": 4
}